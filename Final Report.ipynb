##Analyzing Daily Average Time Spent on Playing Games

Problem Statement

Video games are a common source of entertainment, but spending too much time playing them can affect productivity, physical health, and mental well-being. By examining daily gaming habits, we aim to understand how time is allocated to gaming and identify ways to maintain a healthy balance between gaming and other activities.

How Are We Going To Tackle This Problem?

The project involves gathering data on how much time is spent playing games each day, including details such as session duration and gaming hours. This data will be analyzed to uncover trends and recurring patterns, such as peak gaming hours. Based on these findings, we will create visuals and offer actionable tips to optimize time spent gaming while balancing other commitments.

Methods and Tools We Are Planning to Use

Data Collection: Daily gaming activity data will be recorded either manually or through gaming platforms like Steam, or PlayStation. This will include the duration and timing of gaming sessions.
Data Analysis and Visualization: Tools like pandas and NumPy will help process the data, while visualizations such as charts and graphs will be created using Matplotlib and seaborn to showcase trends.
Insight Generation: Patterns in gaming activity will be identified, including the average time spent playing games, peak activity hours, and their relationship to other activities.
Reporting: A summary report or dashboard will be developed to present findings and suggest improvements for balancing gaming time with other responsibilities.
Expected Outcome

The outcome of this project will be a detailed understanding of gaming habits, including daily average gaming time and its impact on time management. The insights will help identify areas where gaming time can be optimized, promoting a more balanced and productive daily routine.

 https://www.health.harvard.edu/blog/the-health-effects-of-too-much-gaming-2020122221645

https://esportshealthcare.com/guide-to-healthy-gaming/
https://blog.acer.com/en/discussion/1055/10-ways-to-keep-a-healthy-gaming-life-balance
https://www.geekextreme.com/healthy-gaming-habits-for-mental-wellness/
https://github.com/users/EmreEryillmaz/projects/1/views/1?pane=issue&itemId=89372325
https://github.com/EmreEryillmaz/EmreEryillmaz.git
