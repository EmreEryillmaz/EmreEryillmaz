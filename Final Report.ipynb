
            {
                "env": "production",
                "name": "@sie-private/web-commerce-anywhere",
                "version": "3.13.0",
                "gitBranch": "master",
                "gitSha": "2525184d9989f880563098ec29b8529cfc3f0a30",
                "psnAppVersion": "@sie-private/web-commerce-anywhere/3.13.0-2525184d9989f880563098ec29b8529cfc3f0a30",
                "isoenv": "psnnp/np",
                "client": {
                    "downloadHref": "https://library.playstation.com/recently-purchased",
                    "activateConsoleHref": "https://id.sonyentertainmentnetwork.com/id/management_ca/#/p/device_management",
                    "wishlistHref": "https://library.playstation.com/wishlist",
                    "webStore": {
                        "origin": "https://store.playstation.com"
                    },
                    "cookieMonster": {
                        "origin": "https://id.sonyentertainmentnetwork.com"
                    },
                    "productUrlSchema": "https://store.playstation.com/{locale}/product/{productId}",
                    "evidon": {
                        "origin": "https://c.evidon.com"
                    },
                    "publicPath": "https://static.playstation.com/wca/v2/",
                    "manifest": {
                        "src": {
                            "core": {
                                "js": [
                                    "https://static.playstation.com/wca/v2/js/common.1587bf51f44e756afd49.js",
                                    "https://static.playstation.com/wca/v2/js/ui-components.596b265e24d1d433ca18.js",
                                    "https://static.playstation.com/wca/v2/js/main.f25661744b658a3800a5.js",
                                    "https://static.playstation.com/wca/v2/js/network.113548e657dcf868dcf7.js",
                                    "https://static.playstation.com/wca/v2/js/telemetry.7917a8db1374a2c0b8d8.js",
                                    "https://static.playstation.com/wca/v2/js/ui-framework.2d527adbdd67209cd992.js"
                                ],
                                "css": [
                                ]
                            },
                            "addOns": {
                                "js": [
                                    "https://static.playstation.com/wca/v2/js/addOns.75bfb9824e2ebf383487.js"
                                ],
                                "css": [
                                ]
                            },
                            "compatibilityNotices": {
                                "js": [
                                    "https://static.playstation.com/wca/v2/js/compatibilityNotices.70e44a11a7bac1fc9705.js"
                                ],
                                "css": [
                                ]
                            },
                            "contentRating": {
                                "js": [
                                    "https://static.playstation.com/wca/v2/js/contentRating.89eb70b5ff47530286c2.js"
                                ],
                                "css": [
                                ]
                            },
                            "ctaWithPrice": {
                            },
                            "footer": {
                                "js": [
                                    "https://static.playstation.com/wca/v2/js/footer.aecb0ff3d1ba3f45e61d.js"
                                ],
                                "css": [
                                ]
                            },
                            "friendsWhoPlay": {
                                "js": [
                                    "https://static.playstation.com/wca/v2/js/friendsWhoPlay.9a69cd4a2ae163c6f18c.js"
                                ],
                                "css": [
                                ]
                            },
                            "gameBackgroundImage": {
                                "js": [
                                    "https://static.playstation.com/wca/v2/js/gameBackgroundImage.ad2b3256070b8092a680.js"
                                ],
                                "css": [
                                ]
                            },
                            "gameInfo": {
                                "js": [
                                    "https://static.playstation.com/wca/v2/js/gameInfo.f4077e1212d2f1bc5951.js"
                                ],
                                "css": [
                                ]
                            },
                            "gameOverview": {
                            },
                            "gameTitle": {
                                "js": [
                                    "https://static.playstation.com/wca/v2/js/gameTitle.930ad3f3ef335f754319.js"
                                ],
                                "css": [
                                ]
                            },
                            "legalText": {
                                "js": [
                                    "https://static.playstation.com/wca/v2/js/legalText.c40bfe598af09c58a211.js"
                                ],
                                "css": [
                                ]
                            },
                            "upsell": {
                                "js": [
                                    "https://static.playstation.com/wca/v2/js/upsell.477b03cf93884bca9251.js"
                                ],
                                "css": [
                                ]
                            },
                            "mediaCarousel": {
                                "js": [
                                    "https://static.playstation.com/wca/v2/js/mediaCarousel.ecf958261d9062a303f6.js"
                                ],
                                "css": [
                                ]
                            },
                            "starRating": {
                                "js": [
                                    "https://static.playstation.com/wca/v2/js/starRating.3d386ca7c5effcd58674.js"
                                ],
                                "css": [
                                ]
                            },
                            "tierDiscountBadge": {
                                "js": [
                                    "https://static.playstation.com/wca/v2/js/tierDiscountBadge.1787fa31dd7440ea96d5.js"
                                ],
                                "css": [
                                ]
                            },
                            "tierSelector": {
                                "js": [
                                    "https://static.playstation.com/wca/v2/js/tierSelector.4031cdbbeaf981941a26.js"
                                ],
                                "css": [
                                ]
                            }
                        },
                        "gensen": {
                            "ar-ae": "https://static.playstation.com/wca/v2/gensen/ar-ae.037b1a5c.json",
                            "en-us": "https://static.playstation.com/wca/v2/gensen/en-us.8760815b.json",
                            "en-gb": "https://static.playstation.com/wca/v2/gensen/en-gb.d10ffe5e.json",
                            "bg-bg": "https://static.playstation.com/wca/v2/gensen/bg-bg.934addc2.json",
                            "cs-cz": "https://static.playstation.com/wca/v2/gensen/cs-cz.9ec003a1.json",
                            "da-dk": "https://static.playstation.com/wca/v2/gensen/da-dk.6cecc586.json",
                            "de-de": "https://static.playstation.com/wca/v2/gensen/de-de.74c395dd.json",
                            "el-gr": "https://static.playstation.com/wca/v2/gensen/el-gr.625d449f.json",
                            "es-419": "https://static.playstation.com/wca/v2/gensen/es-419.b5efbdd4.json",
                            "es-es": "https://static.playstation.com/wca/v2/gensen/es-es.a0284123.json",
                            "fi-fi": "https://static.playstation.com/wca/v2/gensen/fi-fi.bda31d3e.json",
                            "fr-ca": "https://static.playstation.com/wca/v2/gensen/fr-ca.828affe4.json",
                            "fr-fr": "https://static.playstation.com/wca/v2/gensen/fr-fr.df32157d.json",
                            "he-il": "https://static.playstation.com/wca/v2/gensen/he-il.6afd13c5.json",
                            "hr-hr": "https://static.playstation.com/wca/v2/gensen/hr-hr.2e102f29.json",
                            "hu-hu": "https://static.playstation.com/wca/v2/gensen/hu-hu.c207ca13.json",
                            "id-id": "https://static.playstation.com/wca/v2/gensen/id-id.16d252c7.json",
                            "it-it": "https://static.playstation.com/wca/v2/gensen/it-it.c5e76fe2.json",
                            "ja-jp": "https://static.playstation.com/wca/v2/gensen/ja-jp.285ac50f.json",
                            "ko-kr": "https://static.playstation.com/wca/v2/gensen/ko-kr.ff84b6da.json",
                            "nl-nl": "https://static.playstation.com/wca/v2/gensen/nl-nl.5763cb44.json",
                            "no-no": "https://static.playstation.com/wca/v2/gensen/no-no.24278061.json",
                            "pl-pl": "https://static.playstation.com/wca/v2/gensen/pl-pl.e57d95f9.json",
                            "pt-br": "https://static.playstation.com/wca/v2/gensen/pt-br.a526f924.json",
                            "pt-pt": "https://static.playstation.com/wca/v2/gensen/pt-pt.1371ee05.json",
                            "ro-ro": "https://static.playstation.com/wca/v2/gensen/ro-ro.26285146.json",
                            "ru-ru": "https://static.playstation.com/wca/v2/gensen/ru-ru.09f33025.json",
                            "sk-sk": "https://static.playstation.com/wca/v2/gensen/sk-sk.f576b19f.json",
                            "sl-si": "https://static.playstation.com/wca/v2/gensen/sl-si.d5de9c57.json",
                            "sr-rs": "https://static.playstation.com/wca/v2/gensen/sr-rs.508d7621.json",
                            "sv-se": "https://static.playstation.com/wca/v2/gensen/sv-se.64ee0c80.json",
                            "th-th": "https://static.playstation.com/wca/v2/gensen/th-th.2dea9c60.json",
                            "tr-tr": "https://static.playstation.com/wca/v2/gensen/tr-tr.2215cc91.json",
                            "uk-ua": "https://static.playstation.com/wca/v2/gensen/uk-ua.4959cb3e.json",
                            "vi-vn": "https://static.playstation.com/wca/v2/gensen/vi-vn.6a268cfc.json",
                            "zh-hans": "https://static.playstation.com/wca/v2/gensen/zh-hans.0f5dc1a6.json",
                            "zh-hant": "https://static.playstation.com/wca/v2/gensen/zh-hant.f6cef433.json",
                            "zz-zz": "https://static.playstation.com/wca/v2/gensen/zz-zz.8fe7bcf1.json"
                        }
                    },
                    "session": {
                        "isSignedInCookie": "isSignedIn"
                    },
                    "webCheckout": {
                        "name": "embeddedcart",
                        "clientId": "2dec2b13-57dc-4966-8294-6df0d627e109",
                        "origin": "https://checkout.playstation.com",
                        "loadTimeout": 30000
                    },
                    "webCommerceAnywhere": {
                        "origin": "https://web-commerce-anywhere.playstation.com"
                    }},
                    "staticAsset": {
                        "iconOrigin": "https://static.playstation.com/icons/v0/",
                        "imageOrigin": "https://static.playstation.com/images/v0/",
                        "imageManagerOrigin": "https://image.api.playstation.com",
                        "fontsMain": "https://static.playstation.com/font-stack/v1/css/font-all-no-italic.css",
                        "stylesMain": "https://static.playstation.com/base-styles/v0/psw-styles.css"
                    },
                    "feature": {
                        "queryWhitelist": true,
                        "telemetryReporting": true,
                        "enableUpsellCtas": true,
                        "enableWishlistCta": true,
                        "telemetrySamplingThreshold": 10,
                        "evidonNoticeEnabled": false,
                        "enableEvidonScript": false
                    },
                    "service": {
                        "gql": {
                            "origin": "https://web.np.playstation.com/api/graphql/v1"
                        },
                        "sbahn": {
                            "proxyUrl": null
                        }
                    }
                },
                {
                    "props": {
                        "host": "library.playstation.com",
                        "pageProps": {
                            "collection": "recently-played",
                            "collections": [
                                {
                                    "page": "/[collection]",
                                    "as": "/recently-purchased",
                                    "route": "recently-purchased",
                                    "label": "msgid_purchased"
                                },
                                {
                                    "page": "/[collection]",
                                    "as": "/recently-played",
                                    "route": "recently-played",
                                    "label": "msgid_played"
                                },
                                {
                                    "page": "/[collection]",
                                    "as": "/downloads",
                                    "route": "downloads",
                                    "label": "msgid_downloads"
                                },
                                {
                                    "page": "/[collection]",
                                    "as": "/ps-plus",
                                    "route": "ps-plus",
                                    "label": "msgid_sr_ps_plus"
                                },
                                {
                                    "page": "/[collection]",
                                    "as": "/ps-now",
                                    "route": "ps-now",
                                    "label": "msgid_ps_now"
                                }
                            ],
                            "page": 1
                        },
                        "appProps": {
                            "session": {
                                "userData": {
                                    "relationship": "SELF",
                                    "avatar": {
                                        "url": "https://static-resource.e1-np.community.playstation.net/avatar/default/DefaultAvatar.png?w=96"
                                    },
                                    "chatPermission": {
                                        "scope": 0,
                                        "term": 0
                                    },
                                    "country": "TR",
                                    "isLoggedIn": true,
                                    "isOfficiallyVerified": false,
                                    "isOnline": true,
                                    "isPsPlusMember": true,
                                    "isSubaccount": false,
                                    "language": "tr",
                                    "locale": "tr-TR",
                                    "name": "Emre Eryilmaz",
                                    "profilePicture": {
                                        "url": "https://static-resource.e1-np.community.playstation.net/avatar/default/DefaultAvatar.png?w=96"
                                    },
                                    "localeSupport": "",
                                    "age": 41,
                                    "email": "dtisileryilmaz@gmail.com",
                                    "accountId": "5413268878449168901",
                                    "accountUuid": "87489f9e-5da6-42ed-bd95-970c628eec13",
                                    "realName": {
                                        "name": {
                                            "first": "Emre",
                                            "last": "Eryilmaz"
                                        }
                                    },
                                    "isBanned": false,
                                    "isSuspended": false,
                                    "onlineId": "theagoksel-8x",
                                    "securityResetVersion": 1,
                                    "toSUAVersion": 8,
                                    "hasPin": false,
                                    "customerSince": "2016-02-09T14:25:46.867+0000",
                                    "phones": [
                                        {
                                            "id": "dc4e1a57-cf37-4ce7-a043-20d6f6c1d402",
                                            "isVerified": true,
                                            "verificationDate": "2023-10-29T08:58:13.065+0000",
                                            "phone": "******8853",
                                            "countryCode": "90",
                                            "qualifier": "mobile",
                                            "isMain": true
                                        }
                                    ],
                                    "verificationStatus": "VERIFIED",
                                    "lastUpdateDate": "2024-10-30T20:27:32.008+0000",
                                    "region": "SCEE",
                                    "npStatusValue": "ACTIVE",
                                    "adultVerificationStatus": "NOT_REQUIRED",
                                    "psPlusSubscription": {
                                        "psPlusTier": "TIER_10",
                                        "status": "SUBSCRIBED",
                                        "duration": "1 MONTH",
                                        "flag": "",
                                        "isTrial": false,
                                        "isPsPlusMember": true
                                    },
                                    "ubisoftPlusSubscription": {
                                        "status": "NEVER",
                                        "active": false,
                                        "eligibleForTrial": false
                                    },
                                    "gtaPlusSubscription": {
                                        "status": "NEVER",
                                        "active": false,
                                        "eligibleForTrial": false
                                    },
                                    "emsCriteria": {
                                        "psPlus": "active_1m_false_true_true",
                                        "psNow": "never_none_true_false_false",
                                        "eaAccess": "never_none_false_false_false",
                                        "ubisoftPlus": "never_none_false_false_false",
                                        "gtaPlus": "never_none_false_false_false"
                                    },
                                    "hashedAccountId": "5546693bc0c19af8df56bdc42cb17584d7d629b5d77dea291e253f6d76f849e3",
                                    "avatarUrl": "https://static-resource.np.community.playstation.net/avatar_xl/SCEI/I0015_XL.png",
                                    "profilePictureUrl": "https://static-resource.np.community.playstation.net/avatar_xl/SCEI/I0015_XL.png",
                                    "displayName": "Emre Eryilmaz",
                                    "loyaltySubscription": {
                                        "isUserEnrolled": false,
                                        "isUserEligibleToEnroll": false,
                                        "enrollStatus": "NOT_ENROLLED",
                                        "statusLevel": "NO_LOYALTY_LEVEL",
                                        "requiresTosAcceptance": true
                                    },
                                    "authenticationMode": {
                                        "authMethod": "STANDARD"
                                    },
                                    "ws2Settings": {
                                        "personalizedads": "enabled",
                                        "personalizedrecommendations": "enabled",
                                        "personalizedmedia": "enabled",
                                        "personalizedmaster": "enabled"
                                    }
                                },
                                "redirectUri": "http://library.playstation.com{port}/library/recently-played",
                                "referrerUrl": "https://www.playstation.com/"
                            },
                            "translations": {
                                "language": "tr-tr",
                                "keys": {
                                    "msgid_purchased": "Satın Alınanlar",
                                    "msgid_played": "Oynananlar",
                                    "msgid_downloads": "İndirilenler",
                                    "msgid_sr_ps_plus": "PlayStation Plus",
                                    "msgid_game_library": "Oyun Kütüphanesi",
                                    "msgid_sr_content_loading": "İçerik yükleniyor..."
                                }
                            }
                        },
                        "apolloState": {
                            "ROOT_QUERY": {
                                "__typename": "Query",
                                "featuresRetrieve({\"features\":[\"SPARTACUS\"]})": [
                                    "SPARTACUS"
                                ],
                                "gameLibraryTitlesRetrieve({\"categories\":\"ps4_game,ps5_native_game\",\"limit\":50})": {
                                    "__typename": "GameList",
                                    "games": [
                                        {
                                            "__typename": "GameLibraryTitle",
                                            "conceptId": "10010451",
                                            "entitlementId": "UB0335-PPSA21669_00-0320312678245089",
                                            "image": {
                                                "__typename": "Media",
                                                "url": "https://image.api.playstation.com/sgst/prod/00/PPSA21669_00/app/info/34/fi_acdffcdd418a93744c40e014fdd945c0f8243260b085dbb06367e3b54f6b2e0f/icon0.png"
                                            },
                                            "isActive": true,
                                            "lastPlayedDateTime": "2024-12-28T21:07:22.410000Z",
                                            "name": "Marvel Rivals",
                                            "platform": "PS5",
                                            "productId": "UB0335-PPSA21669_00-0320312678245089",
                                            "membership": "NONE",
                                            "titleId": "PPSA21669_00"
                                        },
                                        {
                                            "__typename": "GameLibraryTitle",
                                            "conceptId": "10010481",
                                            "entitlementId": "EP1001-PPSA22121_00-NBA2K25000000000",
                                            "image": {
                                                "__typename": "Media",
                                                "url": "https://image.api.playstation.com/sgst/prod/00/PPSA22121_00/app/info/50/fi_55bf642dc0bfa03d83f3b49d7468f821f0347664a08b9a38168f0727d8eb2425/icon0.png"
                                            },
                                            "isActive": true,
                                            "lastPlayedDateTime": "2024-12-28T19:15:51.480000Z",
                                            "name": "NBA 2K25",
                                            "platform": "PS5",
                                            "productId": "EP1001-PPSA22121_00-NBA2K25ALLSTAR00",
                                            "membership": "NONE",
                                            "titleId": "PPSA22121_00"
                                        },
                                        {
                                            "__typename": "GameLibraryTitle",
                                            "conceptId": "10004708",
                                            "entitlementId": "EP1001-PPSA06899_00-BASEGAME00000000",
                                            "image": {
                                                "__typename": "Media",
                                                "url": "https://image.api.playstation.com/sgst/prod/00/PPSA06899_00/app/info/93/fi_9c10ca96da4c268dfe6590537fe123de29017daebf4337fd355248d9bcba60c7/icon0.png"
                                            },
                                            "isActive": true,
                                            "lastPlayedDateTime": "2024-12-18T21:07:03.910000Z",
                                            "name": "TopSpin 2K25",
                                            "platform": "PS5",
                                            "productId": "EP1001-PPSA06899_00-TS2K25CROSSGENED",
                                            "membership": "NONE",
                                            "titleId": "PPSA06899_00"
                                        },
                                        {
                                            "__typename": "GameLibraryTitle",
                                            "conceptId": "10005114",
                                            "entitlementId": "EP0006-PPSA07784_00-RESPAWNAPPLEJACK",
                                            "image": {
                                                "__typename": "Media",
                                                "url": "https://image.api.playstation.com/sgst/prod/00/PPSA07784_00/app/info/27/fi_1bdf76bf8a68f661b9bea79b9c50823177528799b27bccabb955faabb967006e/icon0.png"
                                            },
                                            "isActive": true,
                                            "lastPlayedDateTime": "2024-12-17T16:31:36.160000Z",
                                            "name": "STAR WARS Jedi: Survivor™",
                                            "platform": "PS5",
                                            "productId": "EP0006-PPSA07784_00-APPLEJACKGAME000",
                                            "membership": "NONE",
                                            "titleId": "PPSA07784_00"
                                        },
                                        {
                                            "__typename": "GameLibraryTitle",
                                            "conceptId": "10001738",
                                            "entitlementId": "EP0096-CUSA25165_00-0482907501575646",
                                            "image": {
                                                "__typename": "Media",
                                                "url": "https://image.api.playstation.com/gs2-sec/appkgo/prod/CUSA25165_00/4/i_5728cf01f68b0d9f16b1b0ef62cb65eafb85912f076dac4391d2a00e8ad6ccf0/i/icon0.png"
                                            },
                                            "isActive": true,
                                            "lastPlayedDateTime": "2024-12-05T22:53:53.130000Z",
                                            "name": "Secret Neighbor",
                                            "platform": "PS4",
                                            "productId": "EP0096-CUSA25165_00-0482907501575646",
                                            "membership": "NONE",
                                            "titleId": "CUSA25165_00"
                                        },
                                        {
                                            "__typename": "GameLibraryTitle",
                                            "conceptId": "233383",
                                            "entitlementId": "EP1018-PPSA07257_00-GOTHAMKNIGHTS000",
                                            "image": {
                                                "__typename": "Media",
                                                "url": "https://image.api.playstation.com/sgst/prod/00/PPSA07257_00/app/info/47/fi_1c2545cd8b30f062d4c59ce65732f0efbe732c4921efe3b31368b77a13ec3d91/icon0.png"
                                            },
                                            "isActive": true,
                                            "lastPlayedDateTime": "2024-12-01T20:21:24.580000Z",
                                            "name": "Gotham Knights",
                                            "platform": "PS5",
                                            "productId": "EP1018-PPSA07257_00-GOTHAMKNIGHTS000",
                                            "membership": "NONE",
                                            "titleId": "PPSA07257_00"
                                        },
                                        {
                                            "__typename": "GameLibraryTitle",
                                            "conceptId": "10009762",
                                            "entitlementId": null,
                                            "image": {
                                                "__typename": "Media",
                                                "url": "https://image.api.playstation.com/vulcan/ap/rnd/202409/2712/1e1c42b14d92280e17bda697b8c4ae13ff9f91bdb10fca89.png"
                                            },
                                            "isActive": null,
                                            "lastPlayedDateTime": "2024-11-30T22:40:47.340000Z",
                                            "name": "EA SPORTS FC™ 25",
                                            "platform": "PS5",
                                            "productId": null,
                                            "membership": "NONE",
                                            "titleId": "PPSA22179_00"
                                        },
                                        {
                                            "__typename": "GameLibraryTitle",
                                            "conceptId": "10004865",
                                            "entitlementId": "EP0001-PPSA13960_00-GAME000000000000",
                                            "image": {
                                                "__typename": "Media",
                                                "url": "https://image.api.playstation.com/sgst/prod/00/PPSA13960_00/app/info/24/fi_e5c5c54a055dfe11e7f2831685bebfee074f849b9a6f0fb4e22fbb20588f2754/icon0.png"
                                            },
                                            "isActive": true,
                                            "lastPlayedDateTime": "2024-11-30T10:58:14.080000Z",
                                            "name": "Assassin's Creed® Mirage",
                                            "platform": "PS5",
                                            "productId": "EP0001-PPSA13960_00-EDITIONSTANDARD0",
                                            "membership": "NONE",
                                            "titleId": "PPSA13960_00"
                                        },
                                        {
                                            "__typename": "GameLibraryTitle",
                                            "conceptId": "10000781",
                                            "entitlementId": "EP0006-CUSA23265_00-NEEDFORSPEEDHPR0",
                                            "image": {
                                                "__typename": "Media",
                                                "url": "https://image.api.playstation.com/gs2-sec/appkgo/prod/CUSA23265_00/2/i_36c32a88c8ef3ab744def2d1709253e3929d92c86e98841cfacb94c4faf54b6e/i/icon0.png"
                                            },
                                            "isActive": true,
                                            "lastPlayedDateTime": "2024-11-15T15:34:13.440000Z",
                                            "name": "Need For Speed™ Hot Pursuit Remastered",
                                            "platform": "PS4",
                                            "productId": "EP0006-CUSA23265_00-NEEDFORSPEEDHPR0",
                                            "membership": "NONE",
                                            "titleId": "CUSA23265_00"
                                        },
                                        {
                                            "__typename": "GameLibraryTitle",
                                            "conceptId": "233064",
                                            "entitlementId": "EP1018-PPSA01696_00-BACK4BLOOD000000",
                                            "image": {
                                                "__typename": "Media",
                                                "url": "https://image.api.playstation.com/sgst/prod/00/PPSA01696_00/app/info/46/fi_ff33b45c33e0d75841bf2ef5ced1ec3e8cd3e0d5a639a5a868896c7d3f35306a/icon0.png"
                                            },
                                            "isActive": false,
                                            "lastPlayedDateTime": "2024-10-06T20:39:27.220000Z",
                                            "name": "Back 4 Blood",
                                            "platform": "PS5",
                                            "productId": "EP1018-PPSA01696_00-BACK4BLOOD000000",
                                            "membership": "NONE",
                                            "titleId": "PPSA01696_00"
                                        },
                                        {
                                            "__typename": "GameLibraryTitle",
                                            "conceptId": "10007176",
                                            "entitlementId": null,
                                            "image": {
                                                "__typename": "Media",
                                                "url": "https://image.api.playstation.com/vulcan/ap/rnd/202406/1122/7a3b10ed3abad7f4f23f7f148e7e48e78e2cc8dc0c541090.png"
                                            },
                                            "isActive": null,
                                            "lastPlayedDateTime": "2024-09-04T11:34:15.990000Z",
                                            "name": "EA SPORTS FC™ 24",
                                            "platform": "PS5",
                                            "productId": null,
                                            "membership": "NONE",
                                            "titleId": "PPSA13390_00"
                                        },
                                        {
                                            "__typename": "GameLibraryTitle",
                                            "conceptId": "10005940",
                                            "entitlementId": "EP3643-PPSA09683_00-000HOTLINEMIAMI1",
                                            "image": {
                                                "__typename": "Media",
                                                "url": "https://image.api.playstation.com/sgst/prod/00/PPSA09683_00/app/info/4/fi_f4fa3d101b872be949090e5327f695b1ea553ec14035ef8509a23c7a36fcc237/icon0.png"
                                            },
                                            "isActive": false,
                                            "lastPlayedDateTime": "2024-08-15T01:05:11.450000Z",
                                            "name": "Hotline Miami",
                                            "platform": "PS5",
                                            "productId": "EP3643-PPSA09683_00-7596522310430398",
                                            "membership": "NONE",
                                            "titleId": "PPSA09683_00"
                                        },
                                        {
                                            "__typename": "GameLibraryTitle",
                                            "conceptId": "10003143",
                                            "entitlementId": "EP0001-PPSA04719_00-ANNO1800PS000000",
                                            "image": {
                                                "__typename": "Media",
                                                "url": "https://image.api.playstation.com/sgst/prod/00/PPSA04719_00/app/info/85/fi_8f43fa053798cb8067c61fbf907b9d98ab6618163bb244ea0bdc2824fbd9a2f4/icon0.png"
                                            },
                                            "isActive": false,
                                            "lastPlayedDateTime": "2024-07-30T21:50:33.090000Z",
                                            "name": "Anno 1800 Console Edition",
                                            "platform": "PS5",
                                            "productId": "EP0001-PPSA04719_00-ANNO1800PS000000",
                                            "membership": "NONE",
                                            "titleId": "PPSA04719_00"
                                        },
                                        {
                                            "__typename": "GameLibraryTitle",
                                            "conceptId": "10001973",
                                            "entitlementId": null,
                                            "image": {
                                                "__typename": "Media",
                                                "url": "https://image.api.playstation.com/vulcan/img/rnd/202201/1616/THJbARAq2YiRVUv5abCQ8GYQ.png"
                                            },
                                            "isActive": null,
                                            "lastPlayedDateTime": "2024-07-28T11:41:19.320000Z",
                                            "name": "Sifu",
                                            "platform": "PS5",
                                            "productId": null,
                                            "membership": "NONE",
                                            "titleId": "PPSA03001_00"
                                        },
                                        {
                                            "__typename": "GameLibraryTitle",
                                            "conceptId": "203897",
                                            "entitlementId": "EP0001-PPSA01660_00-RAINBOWSIXSIEGE0",
                                            "image": {
                                                "__typename": "Media",
                                                "url": "https://image.api.playstation.com/sgst/prod/00/PPSA01660_00/app/info/157/fi_72865251e54a5efd45a305cd1adc1747a23eaa28ca274ce50a2c5b71ef7f00f6/icon0.png"
                                            },
                                            "isActive": true,
                                            "lastPlayedDateTime": "2024-07-25T14:27:25.920000Z",
                                            "name": "Tom Clancy's Rainbow Six® Siege",
                                            "platform": "PS5",
                                            "productId": "EP0001-PPSA01660_00-RB6SIEGEDELUXE09",
                                            "membership": "NONE",
                                            "titleId": "PPSA01660_00"
                                        },
                                        {
                                            "__typename": "GameLibraryTitle",
                                            "conceptId": "204572",
                                            "entitlementId": null,
                                            "image": {
                                                "__typename": "Media",
                                                "url": "https://image.api.playstation.com/gs2-sec/appkgo/prod/CUSA00375_00/4/i_8b02a87702b3aa78105fcdd53f4251d20088e0954614b67ece693a3ee9ecfca2/i/icon0.png"
                                            },
                                            "isActive": null,
                                            "lastPlayedDateTime": "2024-07-21T14:04:46.730000Z",
                                            "name": "The Evil Within",
                                            "platform": "PS4",
                                            "productId": null,
                                            "membership": "NONE",
                                            "titleId": "CUSA00375_00"
                                        },
                                        {
                                            "__typename": "GameLibraryTitle",
                                            "conceptId": "10007176",
                                            "entitlementId": null,
                                            "image": {
                                                "__typename": "Media",
                                                "url": "https://image.api.playstation.com/vulcan/ap/rnd/202406/1122/7a3b10ed3abad7f4f23f7f148e7e48e78e2cc8dc0c541090.png"
                                            },
                                            "isActive": null,
                                            "lastPlayedDateTime": "2024-07-19T21:32:53.690000Z",
                                            "name": "EA SPORTS FC™ 24",
                                            "platform": "PS4",
                                            "productId": null,
                                            "membership": "NONE",
                                            "titleId": "CUSA40325_00"
                                        },
                                        {
                                            "__typename": "GameLibraryTitle",
                                            "conceptId": "10000333",
                                            "entitlementId": null,
                                            "image": {
                                                "__typename": "Media",
                                                "url": "https://image.api.playstation.com/vulcan/ap/rnd/202107/0902/fS3Hhaq06TqLrbjMVplA8MaY.png"
                                            },
                                            "isActive": null,
                                            "lastPlayedDateTime": "2024-07-08T16:03:42.220000Z",
                                            "name": "ELDEN RING",
                                            "platform": "PS5",
                                            "productId": null,
                                            "membership": "NONE",
                                            "titleId": "PPSA04609_00"
                                        },
                                        {
                                            "__typename": "GameLibraryTitle",
                                            "conceptId": "10002456",
                                            "entitlementId": null,
                                            "image": {
                                                "__typename": "Media",
                                                "url": "https://image.api.playstation.com/vulcan/ap/rnd/202306/1219/1c7b75d8ed9271516546560d219ad0b22ee0a263b4537bd8.png"
                                            },
                                            "isActive": null,
                                            "lastPlayedDateTime": "2024-07-08T14:17:47.950000Z",
                                            "name": "Marvel's Spider-Man 2",
                                            "platform": "PS5",
                                            "productId": null,
                                            "membership": "NONE",
                                            "titleId": "PPSA08338_00"
                                        },
                                        {
                                            "__typename": "GameLibraryTitle",
                                            "conceptId": "216489",
                                            "entitlementId": "EP0001-CUSA04323_00-SOUTHPARKTFBW000",
                                            "image": {
                                                "__typename": "Media",
                                                "url": "https://image.api.playstation.com/gs2-sec/appkgo/prod/CUSA04323_00/2/i_8123015157a583d158c0d1fdcfbcff2603ba7e58c0c2661024a3ede162816755/i/icon0.png"
                                            },
                                            "isActive": false,
                                            "lastPlayedDateTime": "2024-06-18T14:37:20.350000Z",
                                            "name": "South Park™: The Fractured But Whole™",
                                            "platform": "PS4",
                                            "productId": "EP0001-CUSA04323_00-SOUTHPARKTFBW000",
                                            "membership": "NONE",
                                            "titleId": "CUSA04323_00"
                                        },
                                        {
                                            "__typename": "GameLibraryTitle",
                                            "conceptId": "10007788",
                                            "entitlementId": "EP1001-PPSA15302_00-NBA2K24000000000",
                                            "image": {
                                                "__typename": "Media",
                                                "url": "https://image.api.playstation.com/sgst/prod/00/PPSA15302_00/app/info/62/fi_766112966ed0a6dcfc32165ca71bc11f9e7ce7fd024fb3f510d0469c74e9b059/icon0.png"
                                            },
                                            "isActive": false,
                                            "lastPlayedDateTime": "2024-06-16T16:16:13.710000Z",
                                            "name": "NBA 2K24",
                                            "platform": "PS5",
                                            "productId": "EP1001-PPSA15302_00-NBA2K24000000000",
                                            "membership": "NONE",
                                            "titleId": "PPSA15302_00"
                                        },
                                        {
                                            "__typename": "GameLibraryTitle",
                                            "conceptId": "228857",
                                            "entitlementId": null,
                                            "image": {
                                                "__typename": "Media",
                                                "url": "https://image.api.playstation.com/vulcan/img/rnd/202111/3019/oXPtJkwSeNlYon2MqTX9K4sQ.png"
                                            },
                                            "isActive": null,
                                            "lastPlayedDateTime": "2024-05-20T11:31:13.880000Z",
                                            "name": "The Sims™ 4",
                                            "platform": "UNKNOWN",
                                            "productId": null,
                                            "membership": "NONE",
                                            "titleId": "CUSA09216_00"
                                        },
                                        {
                                            "__typename": "GameLibraryTitle",
                                            "conceptId": "10000237",
                                            "entitlementId": "EP0001-PPSA01532_00-GAME000000000000",
                                            "image": {
                                                "__typename": "Media",
                                                "url": "https://image.api.playstation.com/sgst/prod/00/PPSA01532_00/app/info/73/fi_1c2b7395afd1a0dafabc4ffafa4709775c2bd11eb206a7f8f6e9685c9893f698/icon0.png"
                                            },
                                            "isActive": true,
                                            "lastPlayedDateTime": "2024-04-05T18:21:44.570000Z",
                                            "name": "Assassin's Creed® Valhalla",
                                            "platform": "PS5",
                                            "productId": "EP0001-CUSA18535_00-EDITIONSTANDARD0",
                                            "membership": "NONE",
                                            "titleId": "PPSA01532_00"
                                        },
                                        {
                                            "__typename": "GameLibraryTitle",
                                            "conceptId": "10001478",
                                            "entitlementId": null,
                                            "image": {
                                                "__typename": "Media",
                                                "url": "https://image.api.playstation.com/vulcan/img/rnd/202109/2709/wMyl8RQ9Tvi99wjgPPEBGVyX.png"
                                            },
                                            "isActive": null,
                                            "lastPlayedDateTime": "2024-01-27T00:24:21.040000Z",
                                            "name": "Alan Wake Remastered",
                                            "platform": "PS5",
                                            "productId": null,
                                            "membership": "NONE",
                                            "titleId": "PPSA01925_00"
                                        },
                                        {
                                            "__typename": "GameLibraryTitle",
                                            "conceptId": "203897",
                                            "entitlementId": null,
                                            "image": {
                                                "__typename": "Media",
                                                "url": "https://image.api.playstation.com/vulcan/ap/rnd/202209/0617/eiXonwxcJH00bkGo3G6lUm9t.png"
                                            },
                                            "isActive": null,
                                            "lastPlayedDateTime": "2023-10-27T22:48:35.250000Z",
                                            "name": "Tom Clancy's Rainbow Six® Siege",
                                            "platform": "PS4",
                                            "productId": null,
                                            "membership": "NONE",
                                            "titleId": "CUSA01788_00"
                                        },
                                        {
                                            "__typename": "GameLibraryTitle",
                                            "conceptId": "227121",
                                            "entitlementId": "EP2165-CUSA06846_00-F13GAMEXXXXXXXXX",
                                            "image": {
                                                "__typename": "Media",
                                                "url": "https://image.api.playstation.com/gs2-sec/appkgo/prod/CUSA06846_00/5/i_99f2cc5b54c2c96b718b558a4f547f5aaf0dcb44799dfc118090a3bd9af10246/i/icon0.png"
                                            },
                                            "isActive": true,
                                            "lastPlayedDateTime": "2023-10-12T14:19:57.230000Z",
                                            "name": "Friday the 13th: The Game",
                                            "platform": "PS4",
                                            "productId": "EP2165-CUSA06846_00-F13GAMEXXXXXXXXX",
                                            "membership": "NONE",
                                            "titleId": "CUSA06846_00"
                                        },
                                        {
                                            "__typename": "GameLibraryTitle",
                                            "conceptId": "10004336",
                                            "entitlementId": null,
                                            "image": {
                                                "__typename": "Media",
                                                "url": "https://image.api.playstation.com/vulcan/ap/rnd/202301/0312/yM0eeJui8AFByeP5BC5XV5j9.png"
                                            },
                                            "isActive": null,
                                            "lastPlayedDateTime": "2023-09-04T14:15:05.970000Z",
                                            "name": "EA SPORTS™ FIFA 23",
                                            "platform": "UNKNOWN",
                                            "productId": null,
                                            "membership": "NONE",
                                            "titleId": "CUSA31874_00"
                                        },
                                        {
                                            "__typename": "GameLibraryTitle",
                                            "conceptId": "10002811",
                                            "entitlementId": "EP7028-CUSA27793_00-AMONGUSSONYPS4EU",
                                            "image": {
                                                "__typename": "Media",
                                                "url": "https://image.api.playstation.com/gs2-sec/appkgo/prod/CUSA27793_00/5/i_ac9f203e7d560bedeaf201610f70ba91c7ce00ea0f3714f19fd01f347caa5b03/i/icon0.png"
                                            },
                                            "isActive": true,
                                            "lastPlayedDateTime": "2023-08-30T22:32:20.500000Z",
                                            "name": "Among Us",
                                            "platform": "PS4",
                                            "productId": "EP7028-CUSA27793_00-AMONGUS4SIEE0001",
                                            "membership": "NONE",
                                            "titleId": "CUSA27793_00"
                                        },
                                        {
                                            "__typename": "GameLibraryTitle",
                                            "conceptId": "10003354",
                                            "entitlementId": "EP1464-CUSA29237_00-FALLGUYS00000000",
                                            "image": {
                                                "__typename": "Media",
                                                "url": "https://image.api.playstation.com/gs2-sec/appkgo/prod/CUSA29237_00/3/i_f0064eb90fbcaa7e93247b920cd5702108ca5a3544a2d3340526c6338c9a562a/i/icon0.png"
                                            },
                                            "isActive": true,
                                            "lastPlayedDateTime": "2023-08-22T22:05:52.560000Z",
                                            "name": "Fall Guys: Ultimate Knockout",
                                            "platform": "PS4",
                                            "productId": "EP1464-CUSA29237_00-FALLGUYS00000000",
                                            "membership": "NONE",
                                            "titleId": "CUSA29237_00"
                                        },
                                        {
                                            "__typename": "GameLibraryTitle",
                                            "conceptId": "232898",
                                            "entitlementId": null,
                                            "image": {
                                                "__typename": "Media",
                                                "url": "https://image.api.playstation.com/vulcan/img/rnd/202010/1700/B66T6RbAfvIGjpEQxPq7k0Mu.png"
                                            },
                                            "isActive": null,
                                            "lastPlayedDateTime": "2023-08-21T22:12:14.650000Z",
                                            "name": "Sekiro™: Shadows Die Twice",
                                            "platform": "UNKNOWN",
                                            "productId": null,
                                            "membership": "NONE",
                                            "titleId": "CUSA13801_00"
                                        },
                                        {
                                            "__typename": "GameLibraryTitle",
                                            "conceptId": "10000333",
                                            "entitlementId": null,
                                            "image": {
                                                "__typename": "Media",
                                                "url": "https://image.api.playstation.com/vulcan/ap/rnd/202107/0902/fS3Hhaq06TqLrbjMVplA8MaY.png"
                                            },
                                            "isActive": null,
                                            "lastPlayedDateTime": "2023-04-07T09:03:52.370000Z",
                                            "name": "ELDEN RING",
                                            "platform": "UNKNOWN",
                                            "productId": null,
                                            "membership": "NONE",
                                            "titleId": "CUSA18723_00"
                                        },
                                        {
                                            "__typename": "GameLibraryTitle",
                                            "conceptId": "10004836",
                                            "entitlementId": "EP1001-CUSA33075_00-NBA2K23000000000",
                                            "image": {
                                                "__typename": "Media",
                                                "url": "https://image.api.playstation.com/gs2-sec/appkgo/prod/CUSA33075_00/2/i_9bfe6d82a171b718eb12e879d63f909ec9cf2b576898ee7ee0f71542a436f5a9/i/icon0.png"
                                            },
                                            "isActive": true,
                                            "lastPlayedDateTime": "2023-01-28T12:38:57.170000Z",
                                            "name": "NBA 2K23",
                                            "platform": "PS4",
                                            "productId": "EP1001-CUSA33075_00-NBA2K23MCHLJRDN0",
                                            "membership": "NONE",
                                            "titleId": "CUSA33075_00"
                                        },
                                        {
                                            "__typename": "GameLibraryTitle",
                                            "conceptId": "216932",
                                            "entitlementId": "EP0953-CUSA05330_00-BRAWLHALLAEUROPE",
                                            "image": {
                                                "__typename": "Media",
                                                "url": "https://image.api.playstation.com/gs2-sec/appkgo/prod/CUSA05330_00/1/i_83a632b0dda5bdfda82b0342b3933a2b10c28aa4408b4179b9a011886698e293/i/icon0.png"
                                            },
                                            "isActive": true,
                                            "lastPlayedDateTime": "2022-08-12T09:59:35.800000Z",
                                            "name": "Brawlhalla",
                                            "platform": "PS4",
                                            "productId": "EP0953-CUSA05330_00-BRAWLHALLAEUROPE",
                                            "membership": "NONE",
                                            "titleId": "CUSA05330_00"
                                        },
                                        {
                                            "__typename": "GameLibraryTitle",
                                            "conceptId": "235232",
                                            "entitlementId": "EP0700-CUSA17885_00-SMGDARKPICTURESB",
                                            "image": {
                                                "__typename": "Media",
                                                "url": "https://image.api.playstation.com/gs2-sec/appkgo/prod/CUSA17885_00/6/i_3a035e7d74c50c43fd25ff391f2aa7ad2b22641634f556e912628f19b4da3fb6/i/icon0.png"
                                            },
                                            "isActive": true,
                                            "lastPlayedDateTime": "2022-07-19T20:27:43.600000Z",
                                            "name": "The Dark Pictures Anthology: Little Hope",
                                            "platform": "PS4",
                                            "productId": "EP0700-CUSA17885_00-SMGDARKPICTURESB",
                                            "membership": "NONE",
                                            "titleId": "CUSA17885_00"
                                        },
                                        {
                                            "__typename": "GameLibraryTitle",
                                            "conceptId": "10002538",
                                            "entitlementId": null,
                                            "image": {
                                                "__typename": "Media",
                                                "url": "https://image.api.playstation.com/vulcan/img/rnd/202109/2115/5jeuJiXUpb1bZc0Lp1U8N5Ka.png"
                                            },
                                            "isActive": null,
                                            "lastPlayedDateTime": "2022-06-25T07:20:22.990000Z",
                                            "name": "FIFA 22",
                                            "platform": "UNKNOWN",
                                            "productId": null,
                                            "membership": "NONE",
                                            "titleId": "CUSA27107_00"
                                        },
                                        {
                                            "__typename": "GameLibraryTitle",
                                            "conceptId": "229438",
                                            "entitlementId": "EP0006-CUSA05749_00-BATTLEFRONTII000",
                                            "image": {
                                                "__typename": "Media",
                                                "url": "https://image.api.playstation.com/gs2-sec/appkgo/prod/CUSA05749_00/4/i_d1fb05cea9c9978c82fce182d4e79120430b33de101d0652ef91edf150fedb9b/i/icon0.png"
                                            },
                                            "isActive": true,
                                            "lastPlayedDateTime": "2022-06-25T07:19:45.740000Z",
                                            "name": "STAR WARS™ Battlefront™ II",
                                            "platform": "PS4",
                                            "productId": "EP0006-CUSA05749_00-BATTLEFRONTII000",
                                            "membership": "NONE",
                                            "titleId": "CUSA05749_00"
                                        },
                                        {
                                            "__typename": "GameLibraryTitle",
                                            "conceptId": "205353",
                                            "entitlementId": "EP9000-CUSA02344_00-UNCHARTEDTRILOGY",
                                            "image": {
                                                "__typename": "Media",
                                                "url": "https://image.api.playstation.com/gs2-sec/appkgo/prod/CUSA02344_00/1/i_b9b8756a874c45d4dcceddcfaeaf51ad049af372ef6a63bd3d3261db15b0397e/i/icon0.png"
                                            },
                                            "isActive": true,
                                            "lastPlayedDateTime": "2022-05-03T08:46:48.590000Z",
                                            "name": "Uncharted™: The Nathan Drake Collection",
                                            "platform": "PS4",
                                            "productId": "EP9000-CUSA02344_00-UNCHARTEDTRILOGY",
                                            "membership": "NONE",
                                            "titleId": "CUSA02344_00"
                                        },
                                        {
                                            "__typename": "GameLibraryTitle",
                                            "conceptId": "229018",
                                            "entitlementId": "EP9000-CUSA09175_00-DAYSGONECOMPLETE",
                                            "image": {
                                                "__typename": "Media",
                                                "url": "https://image.api.playstation.com/gs2-sec/appkgo/prod/CUSA09175_00/2/i_53d18dc2da6a0ee0c56f010428a53c37b91ba301ba57dae4563e5d514dd28b20/i/icon0.png"
                                            },
                                            "isActive": true,
                                            "lastPlayedDateTime": "2022-03-12T19:45:27.180000Z",
                                            "name": "DAYS GONE",
                                            "platform": "PS4",
                                            "productId": "EP9000-CUSA09175_00-00000DAYSGONEDLX",
                                            "membership": "NONE",
                                            "titleId": "CUSA09175_00"
                                        },
                                        {
                                            "__typename": "GameLibraryTitle",
                                            "conceptId": "10000649",
                                            "entitlementId": null,
                                            "image": {
                                                "__typename": "Media",
                                                "url": "https://image.api.playstation.com/vulcan/ap/rnd/202008/1020/T45iRN1bhiWcJUzST6UFGBvO.png"
                                            },
                                            "isActive": null,
                                            "lastPlayedDateTime": "2022-03-12T08:14:34.350000Z",
                                            "name": "Marvel's Spider-Man: Miles Morales",
                                            "platform": "UNKNOWN",
                                            "productId": null,
                                            "membership": "NONE",
                                            "titleId": "CUSA17776_00"
                                        },
                                        {
                                            "__typename": "GameLibraryTitle",
                                            "conceptId": "230079",
                                            "entitlementId": "EP9000-CUSA10249_00-THELASTOFUSPART2",
                                            "image": {
                                                "__typename": "Media",
                                                "url": "https://image.api.playstation.com/gs2-sec/appkgo/prod/CUSA10249_00/1/i_7b412e7000fc0945d3da24273c7c1e1d256196d5a660948b3d104b0d2dc2dd3a/i/icon0.png"
                                            },
                                            "isActive": true,
                                            "lastPlayedDateTime": "2022-01-06T09:26:04.670000Z",
                                            "name": "The Last of Us™ Part II",
                                            "platform": "PS4",
                                            "productId": "EP9000-CUSA10249_00-THELASTOFUSPART2",
                                            "membership": "NONE",
                                            "titleId": "CUSA10249_00"
                                        },
                                        {
                                            "__typename": "GameLibraryTitle",
                                            "conceptId": "201190",
                                            "entitlementId": null,
                                            "image": {
                                                "__typename": "Media",
                                                "url": "https://image.api.playstation.com/gs2-sec/appkgo/prod/CUSA03365_00/2/i_1bf8d3317ff642710196c85c859320f0a9345e3c65a9132d588239fab877d81a/i/icon0.png"
                                            },
                                            "isActive": null,
                                            "lastPlayedDateTime": "2021-12-31T22:50:41.190000Z",
                                            "name": "DARK SOULS™ III",
                                            "platform": "UNKNOWN",
                                            "productId": null,
                                            "membership": "NONE",
                                            "titleId": "CUSA03365_00"
                                        },
                                        {
                                            "__typename": "GameLibraryTitle",
                                            "conceptId": "222066",
                                            "entitlementId": "EP0001-CUSA05625_00-GAMEACEMPIRE0000",
                                            "image": {
                                                "__typename": "Media",
                                                "url": "https://image.api.playstation.com/gs2-sec/appkgo/prod/CUSA05625_00/3/i_1918d4f78a3ed7521b7936984d525927a03a03e241bdd3d748bfd23c104d45db/i/icon0.png"
                                            },
                                            "isActive": true,
                                            "lastPlayedDateTime": "2021-10-24T15:08:26.480000Z",
                                            "name": "Assassin's Creed® Origins",
                                            "platform": "PS4",
                                            "productId": "EP0001-CUSA05625_00-GAMEACEMPIRE0000",
                                            "membership": "NONE",
                                            "titleId": "CUSA05625_00"
                                        },
                                        {
                                            "__typename": "GameLibraryTitle",
                                            "conceptId": "229133",
                                            "entitlementId": null,
                                            "image": {
                                                "__typename": "Media",
                                                "url": "https://image.api.playstation.com/gs2-sec/appkgo/prod/CUSA09264_00/4/i_a3cd3cb44398c38b29e1b0dd57589638e63f188c542fb59567c9d42d1bc89269/i/icon0.png"
                                            },
                                            "isActive": null,
                                            "lastPlayedDateTime": "2021-10-23T07:16:34.850000Z",
                                            "name": "Just Cause 4",
                                            "platform": "UNKNOWN",
                                            "productId": null,
                                            "membership": "NONE",
                                            "titleId": "CUSA09264_00"
                                        },
                                        {
                                            "__typename": "GameLibraryTitle",
                                            "conceptId": "10000762",
                                            "entitlementId": "EP9000-CUSA11993_00-MARVELSSPIDERMAN",
                                            "image": {
                                                "__typename": "Media",
                                                "url": "https://image.api.playstation.com/gs2-sec/appkgo/prod/CUSA11993_00/1/i_296e22660685ccb74b037472966f62c9a5b561c44c733bb1ab5afe7d276b3e44/i/icon0.png"
                                            },
                                            "isActive": true,
                                            "lastPlayedDateTime": "2021-10-23T05:28:09.020000Z",
                                            "name": "Marvel's Spider-Man",
                                            "platform": "PS4",
                                            "productId": "EP9000-CUSA11993_00-MARVELSSPIDERMAN",
                                            "membership": "NONE",
                                            "titleId": "CUSA11993_00"
                                        },
                                        {
                                            "__typename": "GameLibraryTitle",
                                            "conceptId": "231756",
                                            "entitlementId": "EP1018-CUSA11379_00-00MORTALKOMBAT11",
                                            "image": {
                                                "__typename": "Media",
                                                "url": "https://image.api.playstation.com/gs2-sec/appkgo/prod/CUSA11379_00/3/i_f3c0a4a3d584ae9ee2d34c8a8ac0e8869ef8745091fe9a2fe4c9a366fb0c7940/i/icon0.png"
                                            },
                                            "isActive": true,
                                            "lastPlayedDateTime": "2021-10-22T20:14:07.700000Z",
                                            "name": "Mortal Kombat 11",
                                            "platform": "PS4",
                                            "productId": "EP1018-CUSA11379_00-00MORTALKOMBAT11",
                                            "membership": "NONE",
                                            "titleId": "CUSA11379_00"
                                        },
                                        {
                                            "__typename": "GameLibraryTitle",
                                            "conceptId": "10000237",
                                            "entitlementId": "EP0001-CUSA18535_00-GAME000000000000",
                                            "image": {
                                                "__typename": "Media",
                                                "url": "https://image.api.playstation.com/gs2-sec/appkgo/prod/CUSA18535_00/1/i_ba3d13c355defb8c740d9d15b27589cd9e42340af421f5f5cc28be1088d2e45f/i/icon0.png"
                                            },
                                            "isActive": true,
                                            "lastPlayedDateTime": "2021-10-14T17:01:19.240000Z",
                                            "name": "Assassin's Creed® Valhalla",
                                            "platform": "PS4",
                                            "productId": "EP0001-CUSA18535_00-EDITIONSTANDARD0",
                                            "membership": "NONE",
                                            "titleId": "CUSA18535_00"
                                        },
                                        {
                                            "__typename": "GameLibraryTitle",
                                            "conceptId": "10000278",
                                            "entitlementId": null,
                                            "image": {
                                                "__typename": "Media",
                                                "url": "https://image.api.playstation.com/vulcan/img/rnd/202101/1315/1zfTY2JW41HdDTGJC00Go4nk.png"
                                            },
                                            "isActive": null,
                                            "lastPlayedDateTime": "2021-09-25T07:14:25.820000Z",
                                            "name": "FIFA 21",
                                            "platform": "PS4",
                                            "productId": null,
                                            "membership": "NONE",
                                            "titleId": "CUSA19013_00"
                                        },
                                        {
                                            "__typename": "GameLibraryTitle",
                                            "conceptId": "209441",
                                            "entitlementId": "EP1004-CUSA08519_00-REDEMPTION000002",
                                            "image": {
                                                "__typename": "Media",
                                                "url": "https://image.api.playstation.com/gs2-sec/appkgo/prod/CUSA08519_00/12/i_3da1cf7c41dc7652f9b639e1680d96436773658668c7dc3930c441291095713b/i/icon0.png"
                                            },
                                            "isActive": true,
                                            "lastPlayedDateTime": "2021-07-29T07:49:00.850000Z",
                                            "name": "Red Dead Redemption 2",
                                            "platform": "PS4",
                                            "productId": "EP1004-CUSA08519_00-RDR2SPCLEDTNBUND",
                                            "membership": "NONE",
                                            "titleId": "CUSA08519_00"
                                        },
                                        {
                                            "__typename": "GameLibraryTitle",
                                            "conceptId": "234460",
                                            "entitlementId": "EP1001-CUSA16386_00-NBA2K20000000000",
                                            "image": {
                                                "__typename": "Media",
                                                "url": "https://image.api.playstation.com/gs2-sec/appkgo/prod/CUSA16386_00/3/i_9d7b6c72d83669c1b2343837d4a357e3862cbc36f63ff990499fe57ee88e439f/i/icon0.png"
                                            },
                                            "isActive": true,
                                            "lastPlayedDateTime": "2021-06-30T17:15:24.600000Z",
                                            "name": "NBA 2K20",
                                            "platform": "PS4",
                                            "productId": "EP1001-CUSA16386_00-NBA2K20000000000",
                                            "membership": "NONE",
                                            "titleId": "CUSA16386_00"
                                        },
                                        {
                                            "__typename": "GameLibraryTitle",
                                            "conceptId": "200520",
                                            "entitlementId": null,
                                            "image": {
                                                "__typename": "Media",
                                                "url": "https://image.api.playstation.com/vulcan/img/rnd/202011/0713/WSZqsrnejjt85wYmUqeBQvMQ.png"
                                            },
                                            "isActive": null,
                                            "lastPlayedDateTime": "2020-11-29T12:56:21.110000Z",
                                            "name": "Bloodborne™",
                                            "platform": "UNKNOWN",
                                            "productId": null,
                                            "membership": "NONE",
                                            "titleId": "CUSA00207_00"
                                        }
                                    ]
                                },
                                "deviceStorageDetailsRetrieve": [
                                    {
                                        "__typename": "Device",
                                        "duid": "U2FsdGVkX19NW6iJNpmEOJSSl/Z1ePWuavb8AV6nupgwHofgVBbuAkFhQc/8mLh1WiDeDnejr2yJbcyku1JDym9m9aZ4w+jHT2sU+AM9/SheVvyEsnFL5bqrwehU0ipV",
                                        "deviceName": "PS5-096",
                                        "devicePlatform": "PS5",
                                        "deviceStorageDetails": {
                                            "__typename": "DeviceStorageDetails",
                                            "deviceAvailableSpace": 0,
                                            "installedGames": [
                                                {
                                                    "__typename": "DeviceInstalledGame",
                                                    "title": null,
                                                    "titleId": "PPSA21669_00",
                                                    "name": "Marvel Rivals",
                                                    "installationSize": {
                                                        "__typename": "FileSize",
                                                        "bytes": 37268160512
                                                    },
                                                    "media": {
                                                        "__typename": "Media",
                                                        "url": "https://image.api.playstation.com/vulcan/ap/rnd/202406/1410/d0fe97ef329cad44890bcb44d42f0e7a7f38e2e5dcc9b14f.png"
                                                    },
                                                    "targetPlatforms": [
                                                        "PS5"
                                                    ]
                                                },
                                                {
                                                    "__typename": "DeviceInstalledGame",
                                                    "title": null,
                                                    "titleId": "PPSA22121_00",
                                                    "name": "NBA 2K25 Standard Edition",
                                                    "installationSize": {
                                                        "__typename": "FileSize",
                                                        "bytes": 152155652096
                                                    },
                                                    "media": {
                                                        "__typename": "Media",
                                                        "url": "https://image.api.playstation.com/vulcan/ap/rnd/202406/0623/557a498ad681abced2e4fb18ccaacf8dbfe598a4e454b169.png"
                                                    },
                                                    "targetPlatforms": [
                                                        "PS4",
                                                        "PS5"
                                                    ]
                                                },
                                                {
                                                    "__typename": "DeviceInstalledGame",
                                                    "title": null,
                                                    "titleId": "PPSA06899_00",
                                                    "name": "TopSpin 2K25 Cross-Gen Digital Edition",
                                                    "installationSize": {
                                                        "__typename": "FileSize",
                                                        "bytes": 30057168896
                                                    },
                                                    "media": {
                                                        "__typename": "Media",
                                                        "url": "https://image.api.playstation.com/vulcan/ap/rnd/202403/0619/b9cfd4a50d5a87a891c05be6f3e2f107f066d76e8a88dcb6.png"
                                                    },
                                                    "targetPlatforms": [
                                                        "PS4",
                                                        "PS5"
                                                    ]
                                                },
                                                {
                                                    "__typename": "DeviceInstalledGame",
                                                    "title": null,
                                                    "titleId": "PPSA07784_00",
                                                    "name": "STAR WARS Jedi: Survivor™",
                                                    "installationSize": {
                                                        "__typename": "FileSize",
                                                        "bytes": 151432855552
                                                    },
                                                    "media": {
                                                        "__typename": "Media",
                                                        "url": "https://image.api.playstation.com/vulcan/ap/rnd/202304/1016/47becbe467e18575f71429abbaec9af707865744b825f34d.png"
                                                    },
                                                    "targetPlatforms": [
                                                        "PS5"
                                                    ]
                                                },
                                                {
                                                    "__typename": "DeviceInstalledGame",
                                                    "title": null,
                                                    "titleId": "CUSA25165_00",
                                                    "name": "Secret Neighbor",
                                                    "installationSize": {
                                                        "__typename": "FileSize",
                                                        "bytes": 11996430336
                                                    },
                                                    "media": {
                                                        "__typename": "Media",
                                                        "url": "https://image.api.playstation.com/vulcan/ap/rnd/202310/2314/27cd13e614b08218e52cf51718f938f8e16968bd4f041833.png"
                                                    },
                                                    "targetPlatforms": [
                                                        "PS4"
                                                    ]
                                                },
                                                {
                                                    "__typename": "DeviceInstalledGame",
                                                    "title": null,
                                                    "titleId": "PPSA02733_00",
                                                    "name": "",
                                                    "installationSize": {
                                                        "__typename": "FileSize",
                                                        "bytes": 54504587264
                                                    },
                                                    "media": {
                                                        "__typename": "Media",
                                                        "url": ""
                                                    },
                                                    "targetPlatforms": [
                                                    ]
                                                },
                                                {
                                                    "__typename": "DeviceInstalledGame",
                                                    "title": null,
                                                    "titleId": "PPSA22179_00",
                                                    "name": "EA SPORTS FC™ 25 Standart Sürüm PS4 ve PS5",
                                                    "installationSize": {
                                                        "__typename": "FileSize",
                                                        "bytes": 57741475840
                                                    },
                                                    "media": {
                                                        "__typename": "Media",
                                                        "url": "https://image.api.playstation.com/vulcan/ap/rnd/202407/1814/07a6fda04cc8874d465605538724103f78e3f4deeede69d3.png"
                                                    },
                                                    "targetPlatforms": [
                                                        "PS5",
                                                        "PS4"
                                                    ]
                                                },
                                                {
                                                    "__typename": "DeviceInstalledGame",
                                                    "title": null,
                                                    "titleId": "PPSA13960_00",
                                                    "name": "Assassin's Creed® Mirage",
                                                    "installationSize": {
                                                        "__typename": "FileSize",
                                                        "bytes": 37322686464
                                                    },
                                                    "media": {
                                                        "__typename": "Media",
                                                        "url": "https://image.api.playstation.com/vulcan/ap/rnd/202208/1718/phwiQjbJddEg979YucUoP3Vr.png"
                                                    },
                                                    "targetPlatforms": [
                                                        "PS4",
                                                        "PS5"
                                                    ]
                                                },
                                                {
                                                    "__typename": "DeviceInstalledGame",
                                                    "title": null,
                                                    "titleId": "PPSA05688_00",
                                                    "name": "Spotify",
                                                    "installationSize": {
                                                        "__typename": "FileSize",
                                                        "bytes": 407568384
                                                    },
                                                    "media": {
                                                        "__typename": "Media",
                                                        "url": "https://image.api.playstation.com/vulcan/img/rnd/202010/0105/nkAJcbaKJ1N0YP7JuRd3DdTc.png"
                                                    },
                                                    "targetPlatforms": [
                                                        "PS5"
                                                    ]
                                                }
                                            ]
                                        }
                                    },
                                    {
                                        "__typename": "Device",
                                        "duid": "U2FsdGVkX19TFRyuzEVtURScYdhs3ylo9yXG2kUsZYzt+5Mn2w9OgKQkXeRgV+YRSy0vRFd7JUQdYMRQWDwVtHq7LTOu4hc8k3nawSEyd7mZS2sS3rjmqSQut4Qa2VTW",
                                        "deviceName": "PS5-642",
                                        "devicePlatform": "PS5",
                                        "deviceStorageDetails": {
                                            "__typename": "DeviceStorageDetails",
                                            "deviceAvailableSpace": 0,
                                            "installedGames": [
                                                {
                                                    "__typename": "DeviceInstalledGame",
                                                    "title": null,
                                                    "titleId": "PPSA22179_00",
                                                    "name": "EA SPORTS FC™ 25 Standart Sürüm PS4 ve PS5",
                                                    "installationSize": {
                                                        "__typename": "FileSize",
                                                        "bytes": 59353792512
                                                    },
                                                    "media": {
                                                        "__typename": "Media",
                                                        "url": "https://image.api.playstation.com/vulcan/ap/rnd/202407/1814/07a6fda04cc8874d465605538724103f78e3f4deeede69d3.png"
                                                    },
                                                    "targetPlatforms": [
                                                        "PS5",
                                                        "PS4"
                                                    ]
                                                },
                                                {
                                                    "__typename": "DeviceInstalledGame",
                                                    "title": null,
                                                    "titleId": "PPSA22121_00",
                                                    "name": "NBA 2K25 Standard Edition",
                                                    "installationSize": {
                                                        "__typename": "FileSize",
                                                        "bytes": 152155652096
                                                    },
                                                    "media": {
                                                        "__typename": "Media",
                                                        "url": "https://image.api.playstation.com/vulcan/ap/rnd/202406/0623/557a498ad681abced2e4fb18ccaacf8dbfe598a4e454b169.png"
                                                    },
                                                    "targetPlatforms": [
                                                        "PS4",
                                                        "PS5"
                                                    ]
                                                },
                                                {
                                                    "__typename": "DeviceInstalledGame",
                                                    "title": null,
                                                    "titleId": "PPSA16307_00",
                                                    "name": "WWE 2K24 Cross-Gen Digital Edition",
                                                    "installationSize": {
                                                        "__typename": "FileSize",
                                                        "bytes": 93074948096
                                                    },
                                                    "media": {
                                                        "__typename": "Media",
                                                        "url": "https://image.api.playstation.com/vulcan/ap/rnd/202401/1718/7d649a71454c932d484b37690889a173351d4fe3d0eda2dc.png"
                                                    },
                                                    "targetPlatforms": [
                                                        "PS4",
                                                        "PS5"
                                                    ]
                                                },
                                                {
                                                    "__typename": "DeviceInstalledGame",
                                                    "title": null,
                                                    "titleId": "PPSA08338_00",
                                                    "name": "Marvel’s Spider-Man 2",
                                                    "installationSize": {
                                                        "__typename": "FileSize",
                                                        "bytes": 87417421824
                                                    },
                                                    "media": {
                                                        "__typename": "Media",
                                                        "url": "https://image.api.playstation.com/vulcan/ap/rnd/202306/1219/1c7b75d8ed9271516546560d219ad0b22ee0a263b4537bd8.png"
                                                    },
                                                    "targetPlatforms": [
                                                        "PS5"
                                                    ]
                                                },
                                                {
                                                    "__typename": "DeviceInstalledGame",
                                                    "title": null,
                                                    "titleId": "PPSA05688_00",
                                                    "name": "Spotify",
                                                    "installationSize": {
                                                        "__typename": "FileSize",
                                                        "bytes": 70713344
                                                    },
                                                    "media": {
                                                        "__typename": "Media",
                                                        "url": "https://image.api.playstation.com/vulcan/img/rnd/202010/0105/nkAJcbaKJ1N0YP7JuRd3DdTc.png"
                                                    },
                                                    "targetPlatforms": [
                                                        "PS5"
                                                    ]
                                                },
                                                {
                                                    "__typename": "DeviceInstalledGame",
                                                    "title": null,
                                                    "titleId": "PPSA01923_00",
                                                    "name": "Fortnite",
                                                    "installationSize": {
                                                        "__typename": "FileSize",
                                                        "bytes": 80066576384
                                                    },
                                                    "media": {
                                                        "__typename": "Media",
                                                        "url": "https://image.api.playstation.com/vulcan/ap/rnd/202412/2017/2bb1f425090006f8c5c3c3cab094809ccce8fa6f2531a8d6.png"
                                                    },
                                                    "targetPlatforms": [
                                                        "PS5"
                                                    ]
                                                },
                                                {
                                                    "__typename": "DeviceInstalledGame",
                                                    "title": null,
                                                    "titleId": "PPSA01721_00",
                                                    "name": "Grand Theft Auto Online (PlayStation®5)",
                                                    "installationSize": {
                                                        "__typename": "FileSize",
                                                        "bytes": 104443740160
                                                    },
                                                    "media": {
                                                        "__typename": "Media",
                                                        "url": "https://image.api.playstation.com/vulcan/ap/rnd/202202/2816/mYn2ETBKFct26V9mJnZi4aSS.png"
                                                    },
                                                    "targetPlatforms": [
                                                        "PS5"
                                                    ]
                                                },
                                                {
                                                    "__typename": "DeviceInstalledGame",
                                                    "title": null,
                                                    "titleId": "PPSA01666_00",
                                                    "name": "Twitch",
                                                    "installationSize": {
                                                        "__typename": "FileSize",
                                                        "bytes": 1284702208
                                                    },
                                                    "media": {
                                                        "__typename": "Media",
                                                        "url": "https://image.api.playstation.com/vulcan/img/rnd/202008/1020/DQ5zhnjMWu0vrqZGuGchhJjR.png"
                                                    },
                                                    "targetPlatforms": [
                                                        "PS5"
                                                    ]
                                                },
                                                {
                                                    "__typename": "DeviceInstalledGame",
                                                    "title": null,
                                                    "titleId": "PPSA01651_00",
                                                    "name": "YouTube",
                                                    "installationSize": {
                                                        "__typename": "FileSize",
                                                        "bytes": 465240064
                                                    },
                                                    "media": {
                                                        "__typename": "Media",
                                                        "url": "https://image.api.playstation.com/vulcan/ap/rnd/202009/3017/wYAvR9akyRjDjy75S4zCLAGi.png"
                                                    },
                                                    "targetPlatforms": [
                                                        "PS5"
                                                    ]
                                                }
                                            ]
                                        }
                                    },
                                    {
                                        "__typename": "Device",
                                        "duid": "myself",
                                        "deviceName": null,
                                        "devicePlatform": "PS4",
                                        "deviceStorageDetails": null
                                    }
                                ]
                            }
                        }
                    },
                    "page": "/library/[collection]",
                    "query": {
                        "collection": "recently-played"
                    },
                    "buildId": "99Dnj3pDuy55NdOLQaaTG",
                    "runtimeConfig": {
                        "env": "production",
                        "name": "my-playstation",
                        "version": "my-playstation@1.12.0",
                        "gitBranch": "HEAD",
                        "gitSha": "19dc2d064efa4b4e35085372d5021db2e075e5e4",
                        "isoenv": "psnnp/np",
                        "service": {
                            "gqlSsr": {
                                "host": "http://arkham-gql-router-p1np.xc.svc.cluster.local/api/graphql/v1"
                            },
                            "gqlBrowser": {
                                "host": "https://web.np.playstation.com/api/graphql/v1"
                            },
                            "session": {
                                "base": "https://web.np.playstation.com/api/session/v1",
                                "host": "http://arkham-session-p1np.xc.svc.cluster.local/"
                            },
                            "store": {
                                "host": "https://store.playstation.com"
                            },
                            "pdc": {
                                "psPlusUrl": "https://www.playstation.com/ps-plus/"
                            },
                            "checkout": {
                                "host": "https://web-commerce-anywhere.playstation.com"
                            },
                            "telemetryUrl": {
                                "host": "https://web.np.playstation.com/api/telemetry/v1"
                            }
                        },
                        "staticAsset": {
                            "host": "https://static.playstation.com",
                            "fontsMain": "/font-stack/0.1.2/css/font-all-no-italic.css"
                        },
                        "feature": {
                            "queryWhitelist": false,
                            "telemetryFilterLoadEventMetrics": false,
                            "evidonNoticeEnabled": true
                        }
                    },
                    "isFallback": false,
                    "customServer": true,
                    "gip": true,
                    "appGip": true
                }
                    {
                        "args": {
                        },
                        "overrides": {
                            "includeStorePicker": "false",
                            "locale": "tr-TR"
                        },
                        "cache": {
                        },
                       
                            
                        }
                   
