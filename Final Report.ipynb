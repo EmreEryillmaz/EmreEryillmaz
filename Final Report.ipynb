
            {
                "env": "production",
                "name": "@sie-private/web-commerce-anywhere",
                "version": "3.13.0",
                "gitBranch": "master",
                "gitSha": "2525184d9989f880563098ec29b8529cfc3f0a30",
                "psnAppVersion": "@sie-private/web-commerce-anywhere/3.13.0-2525184d9989f880563098ec29b8529cfc3f0a30",
                "isoenv": "psnnp/np",
                "client": {
                    "downloadHref": "https://library.playstation.com/recently-purchased",
                    "activateConsoleHref": "https://id.sonyentertainmentnetwork.com/id/management_ca/#/p/device_management",
                    "wishlistHref": "https://library.playstation.com/wishlist",
                    "webStore": {
                        "origin": "https://store.playstation.com"
                    },
                    "cookieMonster": {
                        "origin": "https://id.sonyentertainmentnetwork.com"
                    },
                    "productUrlSchema": "https://store.playstation.com/{locale}/product/{productId}",
                    "evidon": {
                        "origin": "https://c.evidon.com"
                    },
                    "publicPath": "https://static.playstation.com/wca/v2/",
                    "manifest": {
                        "src": {
                            "core": {
                                "js": [
                                    "https://static.playstation.com/wca/v2/js/common.1587bf51f44e756afd49.js",
                                    "https://static.playstation.com/wca/v2/js/ui-components.596b265e24d1d433ca18.js",
                                    "https://static.playstation.com/wca/v2/js/main.f25661744b658a3800a5.js",
                                    "https://static.playstation.com/wca/v2/js/network.113548e657dcf868dcf7.js",
                                    "https://static.playstation.com/wca/v2/js/telemetry.7917a8db1374a2c0b8d8.js",
                                    "https://static.playstation.com/wca/v2/js/ui-framework.2d527adbdd67209cd992.js"
                                ],
                                "css": [
                                ]
                            },
                            "addOns": {
                                "js": [
                                    "https://static.playstation.com/wca/v2/js/addOns.75bfb9824e2ebf383487.js"
                                ],
                                "css": [
                                ]
                            },
                            "compatibilityNotices": {
                                "js": [
                                    "https://static.playstation.com/wca/v2/js/compatibilityNotices.70e44a11a7bac1fc9705.js"
                                ],
                                "css": [
                                ]
                            },
                            "contentRating": {
                                "js": [
                                    "https://static.playstation.com/wca/v2/js/contentRating.89eb70b5ff47530286c2.js"
                                ],
                                "css": [
                                ]
                            },
                            "ctaWithPrice": {
                            },
                            "footer": {
                                "js": [
                                    "https://static.playstation.com/wca/v2/js/footer.aecb0ff3d1ba3f45e61d.js"
                                ],
                                "css": [
                                ]
                            },
                            "friendsWhoPlay": {
                                "js": [
                                    "https://static.playstation.com/wca/v2/js/friendsWhoPlay.9a69cd4a2ae163c6f18c.js"
                                ],
                                "css": [
                                ]
                            },
                            "gameBackgroundImage": {
                                "js": [
                                    "https://static.playstation.com/wca/v2/js/gameBackgroundImage.ad2b3256070b8092a680.js"
                                ],
                                "css": [
                                ]
                            },
                            "gameInfo": {
                                "js": [
                                    "https://static.playstation.com/wca/v2/js/gameInfo.f4077e1212d2f1bc5951.js"
                                ],
                                "css": [
                                ]
                            },
                            "gameOverview": {
                            },
                            "gameTitle": {
                                "js": [
                                    "https://static.playstation.com/wca/v2/js/gameTitle.930ad3f3ef335f754319.js"
                                ],
                                "css": [
                                ]
                            },
                            "legalText": {
                                "js": [
                                    "https://static.playstation.com/wca/v2/js/legalText.c40bfe598af09c58a211.js"
                                ],
                                "css": [
                                ]
                            },
                            "upsell": {
                                "js": [
                                    "https://static.playstation.com/wca/v2/js/upsell.477b03cf93884bca9251.js"
                                ],
                                "css": [
                                ]
                            },
                            "mediaCarousel": {
                                "js": [
                                    "https://static.playstation.com/wca/v2/js/mediaCarousel.ecf958261d9062a303f6.js"
                                ],
                                "css": [
                                ]
                            },
                            "starRating": {
                                "js": [
                                    "https://static.playstation.com/wca/v2/js/starRating.3d386ca7c5effcd58674.js"
                                ],
                                "css": [
                                ]
                            },
                            "tierDiscountBadge": {
                                "js": [
                                    "https://static.playstation.com/wca/v2/js/tierDiscountBadge.1787fa31dd7440ea96d5.js"
                                ],
                                "css": [
                                ]
                            },
                            "tierSelector": {
                                "js": [
                                    "https://static.playstation.com/wca/v2/js/tierSelector.4031cdbbeaf981941a26.js"
                                ],
                                "css": [
                                ]
                            }
                        },
                        "gensen": {
                            "ar-ae": "https://static.playstation.com/wca/v2/gensen/ar-ae.037b1a5c.json",
                            "en-us": "https://static.playstation.com/wca/v2/gensen/en-us.8760815b.json",
                            "en-gb": "https://static.playstation.com/wca/v2/gensen/en-gb.d10ffe5e.json",
                            "bg-bg": "https://static.playstation.com/wca/v2/gensen/bg-bg.934addc2.json",
                            "cs-cz": "https://static.playstation.com/wca/v2/gensen/cs-cz.9ec003a1.json",
                            "da-dk": "https://static.playstation.com/wca/v2/gensen/da-dk.6cecc586.json",
                            "de-de": "https://static.playstation.com/wca/v2/gensen/de-de.74c395dd.json",
                            "el-gr": "https://static.playstation.com/wca/v2/gensen/el-gr.625d449f.json",
                            "es-419": "https://static.playstation.com/wca/v2/gensen/es-419.b5efbdd4.json",
                            "es-es": "https://static.playstation.com/wca/v2/gensen/es-es.a0284123.json",
                            "fi-fi": "https://static.playstation.com/wca/v2/gensen/fi-fi.bda31d3e.json",
                            "fr-ca": "https://static.playstation.com/wca/v2/gensen/fr-ca.828affe4.json",
                            "fr-fr": "https://static.playstation.com/wca/v2/gensen/fr-fr.df32157d.json",
                            "he-il": "https://static.playstation.com/wca/v2/gensen/he-il.6afd13c5.json",
                            "hr-hr": "https://static.playstation.com/wca/v2/gensen/hr-hr.2e102f29.json",
                            "hu-hu": "https://static.playstation.com/wca/v2/gensen/hu-hu.c207ca13.json",
                            "id-id": "https://static.playstation.com/wca/v2/gensen/id-id.16d252c7.json",
                            "it-it": "https://static.playstation.com/wca/v2/gensen/it-it.c5e76fe2.json",
                            "ja-jp": "https://static.playstation.com/wca/v2/gensen/ja-jp.285ac50f.json",
                            "ko-kr": "https://static.playstation.com/wca/v2/gensen/ko-kr.ff84b6da.json",
                            "nl-nl": "https://static.playstation.com/wca/v2/gensen/nl-nl.5763cb44.json",
                            "no-no": "https://static.playstation.com/wca/v2/gensen/no-no.24278061.json",
                            "pl-pl": "https://static.playstation.com/wca/v2/gensen/pl-pl.e57d95f9.json",
                            "pt-br": "https://static.playstation.com/wca/v2/gensen/pt-br.a526f924.json",
                            "pt-pt": "https://static.playstation.com/wca/v2/gensen/pt-pt.1371ee05.json",
                            "ro-ro": "https://static.playstation.com/wca/v2/gensen/ro-ro.26285146.json",
                            "ru-ru": "https://static.playstation.com/wca/v2/gensen/ru-ru.09f33025.json",
                            "sk-sk": "https://static.playstation.com/wca/v2/gensen/sk-sk.f576b19f.json",
                            "sl-si": "https://static.playstation.com/wca/v2/gensen/sl-si.d5de9c57.json",
                            "sr-rs": "https://static.playstation.com/wca/v2/gensen/sr-rs.508d7621.json",
                            "sv-se": "https://static.playstation.com/wca/v2/gensen/sv-se.64ee0c80.json",
                            "th-th": "https://static.playstation.com/wca/v2/gensen/th-th.2dea9c60.json",
                            "tr-tr": "https://static.playstation.com/wca/v2/gensen/tr-tr.2215cc91.json",
                            "uk-ua": "https://static.playstation.com/wca/v2/gensen/uk-ua.4959cb3e.json",
                            "vi-vn": "https://static.playstation.com/wca/v2/gensen/vi-vn.6a268cfc.json",
                            "zh-hans": "https://static.playstation.com/wca/v2/gensen/zh-hans.0f5dc1a6.json",
                            "zh-hant": "https://static.playstation.com/wca/v2/gensen/zh-hant.f6cef433.json",
                            "zz-zz": "https://static.playstation.com/wca/v2/gensen/zz-zz.8fe7bcf1.json"
                        }
                    },
                    "session": {
                        "isSignedInCookie": "isSignedIn"
                    },
                    "webCheckout": {
                        "name": "embeddedcart",
                        "clientId": "2dec2b13-57dc-4966-8294-6df0d627e109",
                        "origin": "https://checkout.playstation.com",
                        "loadTimeout": 30000
                    },
                    "webCommerceAnywhere": {
                        "origin": "https://web-commerce-anywhere.playstation.com"
                    }},
                    "staticAsset": {
                        "iconOrigin": "https://static.playstation.com/icons/v0/",
                        "imageOrigin": "https://static.playstation.com/images/v0/",
                        "imageManagerOrigin": "https://image.api.playstation.com",
                        "fontsMain": "https://static.playstation.com/font-stack/v1/css/font-all-no-italic.css",
                        "stylesMain": "https://static.playstation.com/base-styles/v0/psw-styles.css"
                    },
                    "feature": {
                        "queryWhitelist": true,
                        "telemetryReporting": true,
                        "enableUpsellCtas": true,
                        "enableWishlistCta": true,
                        "telemetrySamplingThreshold": 10,
                        "evidonNoticeEnabled": false,
                        "enableEvidonScript": false
                    },
                    "service": {
                        "gql": {
                            "origin": "https://web.np.playstation.com/api/graphql/v1"
                        },
                        "sbahn": {
                            "proxyUrl": null
                        }
                    }
                }</script>
            <script defer crossorigin src="https://static.playstation.com/wca/v2/js/common.1587bf51f44e756afd49.js" type="application/javascript"></script>
            <script defer crossorigin src="https://static.playstation.com/wca/v2/js/ui-components.596b265e24d1d433ca18.js" type="application/javascript"></script>
            <script defer crossorigin src="https://static.playstation.com/wca/v2/js/main.f25661744b658a3800a5.js" type="application/javascript"></script>
            <script defer crossorigin src="https://static.playstation.com/wca/v2/js/network.113548e657dcf868dcf7.js" type="application/javascript"></script>
            <script defer crossorigin src="https://static.playstation.com/wca/v2/js/telemetry.7917a8db1374a2c0b8d8.js" type="application/javascript"></script>
            <script defer crossorigin src="https://static.playstation.com/wca/v2/js/ui-framework.2d527adbdd67209cd992.js" type="application/javascript"></script>
        </head>
        <body>
            <head>
                <link href="/static/lib/shared-nav/3.1.8/shared-nav.css" rel="stylesheet"/>
                <meta name="viewport" content="width=device-width"/>
                <meta charSet="utf-8"/>
                <title>Oyun Kütüphanesi - Oynananlar</title>
                <meta name="next-head-count" content="3"/>
                <link rel="preload" href="/_next/static/css/5f65c17050a33359a648.css" as="style"/>
                <link rel="stylesheet" href="/_next/static/css/5f65c17050a33359a648.css" data-n-g=""/>
                <noscript data-n-css=""></noscript>
                <link rel="preload" href="/_next/static/chunks/main-8c0e682786fab220f644.js" as="script"/>
                <link rel="preload" href="/_next/static/chunks/webpack-50bee04d1dc61f8adf5b.js" as="script"/>
                <link rel="preload" href="/_next/static/chunks/framework.fef40d0ef2a43723cbac.js" as="script"/>
                <link rel="preload" href="/_next/static/chunks/1f5b1a6a.9ae2ecdd7b29dd70bddf.js" as="script"/>
                <link rel="preload" href="/_next/static/chunks/6f0d5861.6bcf8e5af9ec9c675305.js" as="script"/>
                <link rel="preload" href="/_next/static/chunks/bbec27fe.21c3605beeeae78d716d.js" as="script"/>
                <link rel="preload" href="/_next/static/chunks/commons.da1cc6c071aa0de2a1e4.js" as="script"/>
                <link rel="preload" href="/_next/static/chunks/f7886890637c5c7905cda456b4abe131c9f5f67d.c4fb828efd1664ebf168.js" as="script"/>
                <link rel="preload" href="/_next/static/chunks/06b93a6eb7e9ddb420989a37f624e6ba66be2fff.42f068cc8b6351946c7b.js" as="script"/>
                <link rel="preload" href="/_next/static/chunks/dba63d6b74b9a9f38c0185631ccb9397236504b8.906360d2eb5b8e66e135.js" as="script"/>
                <link rel="preload" href="/_next/static/chunks/a0debed46b79103d6a0811222264dc0f663e93cf.71e213b4d3e712430b08.js" as="script"/>
                <link rel="preload" href="/_next/static/chunks/a03f3ad708d9defbc03735f0b26700e8d0404a2f.aedca88db97dfe52f721.js" as="script"/>
                <link rel="preload" href="/_next/static/chunks/84f345049167e7203f23d1702ce0b18fd69f1e44.073d7084a3d1f6c02384.js" as="script"/>
                <link rel="preload" href="/_next/static/chunks/pages/_app-be271fb57ddc90f7156a.js" as="script"/>
                <link rel="preload" href="/_next/static/chunks/7695d402190129cb59f65803823b16e4ad66b561.c089a7eee64b189613e3.js" as="script"/>
                <link rel="preload" href="/_next/static/chunks/feb7f4530d0de366f04bdea682fab8ed9b767844.4cc5ec6e3b5b585a8a84.js" as="script"/>
                <link rel="preload" href="/_next/static/chunks/c59bf9a42688430f17a0ab4a96d2ce096f55f6ac.2387f7bfc5035c6aa6a5.js" as="script"/>
                <link rel="preload" href="/_next/static/chunks/pages/library/%5Bcollection%5D-c6e891ac14ca0f90b9f5.js" as="script"/>
            </head>
            <div>
                <header id="shared-nav-root">
                    <!-- psn shared navigation -->
                    <!-- version=3.1.8 -->
                    <!-- build=unknown -->
                    <!-- date=2024-06-24T23:31:10.995Z -->
                    <div id="shared-nav-container" class="shared-nav-container--minimized">
                        <section id="shared-nav" class="shared-nav--ssr">
                            <nav class="shared-nav shared-nav--menu-closed" data-jetstream-ssr-nav-container="true">
                                <span class="shared-nav__ps-logo-container">
                                    <a class="shared-nav-ps-logo-link dtm-no-track" href="https://www.playstation.com/tr-tr" aria-label="PlayStation.com">
                                        <svg aria-hidden="true" focusable="false" class="shared-nav-ps-logo" width="50px" height="50px" version="1.1" xmlns="http://www.w3.org/2000/svg" xmlns:xlink="http://www.w3.org/1999/xlink" viewBox="0 0 50 50">
                                            <g>
                                                <g>
                                                    <path d="M5.8,32.1C4.3,33.1,4.8,35,8,35.9c3.3,1.1,6.9,1.4,10.4,0.8c0.2,0,0.4-0.1,0.5-0.1v-3.4l-3.4,1.1
       c-1.3,0.4-2.6,0.5-3.9,0.2c-1-0.3-0.8-0.9,0.4-1.4l6.9-2.4V27l-9.6,3.3C8.1,30.7,6.9,31.3,5.8,32.1z M29,17.1v9.7
       c4.1,2,7.3,0,7.3-5.2c0-5.3-1.9-7.7-7.4-9.6C26,11,23,10.1,20,9.5v28.9l7,2.1V16.2c0-1.1,0-1.9,0.8-1.6C28.9,14.9,29,16,29,17.1z
        M42,29.8c-2.9-1-6-1.4-9-1.1c-1.6,0.1-3.1,0.5-4.5,1l-0.3,0.1v3.9l6.5-2.4c1.3-0.4,2.6-0.5,3.9-0.2c1,0.3,0.8,0.9-0.4,1.4
       l-10,3.7V40L42,34.9c1-0.4,1.9-0.9,2.7-1.7C45.4,32.2,45.1,30.8,42,29.8z" fill="#0070d1"></path>
                                                </g>
                                            </g>
                                        </svg>
                                    </a>
                                </span>
                                <div class="shared-nav__primary-parent">
                                    <section aria-label="Dropdown Menu" class="shared-nav__primary shared-nav-list">
                                        <div class="shared-nav__primary-item">
                                            <button class="shared-nav__primary-button shared-nav-button shared-nav-icon shared-nav-icon--chevron-after dtm-no-track shared-nav-mobile-icon shared-nav-icon--gaming" id="menu-button-primary--msg-games">Oyunlar</button>
                                            <div class="shared-nav__secondary-parent shared-nav__secondary-parent--msg_games">
                                                <div class="shared-nav__secondary-container">
                                                    <h3 id="shared-nav__secondary-header--msg-games" class="shared-nav__secondary-header">
                                                        <button class="shared-nav__secondary-header-toggle shared-nav-button shared-nav-icon shared-nav-icon--hamburger">Oyunlar
                    </button>
                                                    </h3>
                                                    <section aria-label="Dropdown Menu" class="shared-nav__secondary shared-nav-list">
                                                        <div class="shared-nav__secondary-item">
                                                            <a id="link-secondary--msg-games-msg-ps5" class="shared-nav__secondary-anchor shared-nav-anchor dtm-no-track shared-nav-link-icon shared-nav-link-icon--ps5games" href="https://www.playstation.com/tr-tr/ps5/games/?smcid=other%3Atr-tr%3Ablank%3Aprimary%20nav%3Amsg-games%3Aps5">
                                                                <span class="shared-nav-icon-text">PS5</span>
                                                            </a>
                                                        </div>
                                                        <div class="shared-nav__secondary-item">
                                                            <a id="link-secondary--msg-games-msg-ps4" class="shared-nav__secondary-anchor shared-nav-anchor dtm-no-track shared-nav-link-icon shared-nav-link-icon--ps4progames" href="https://www.playstation.com/tr-tr/ps4/ps4-games/?smcid=other%3Atr-tr%3Ablank%3Aprimary%20nav%3Amsg-games%3Aps4">
                                                                <span class="shared-nav-icon-text">PS4</span>
                                                            </a>
                                                        </div>
                                                        <div class="shared-nav__secondary-item">
                                                            <a id="link-secondary--msg-games-msg-ps-vr2" class="shared-nav__secondary-anchor shared-nav-anchor dtm-no-track shared-nav-link-icon shared-nav-link-icon--psvr2" href="https://www.playstation.com/tr-tr/ps-vr2/games/?smcid=other%3Atr-tr%3Ablank%3Aprimary%20nav%3Amsg-games%3Aps-vr2">
                                                                <span class="shared-nav-icon-text">PS VR2</span>
                                                            </a>
                                                        </div>
                                                        <div class="shared-nav__secondary-item">
                                                            <a id="link-secondary--msg-games-msg-pc" class="shared-nav__secondary-anchor shared-nav-anchor dtm-no-track shared-nav-link-icon shared-nav-link-icon--pc" href="https://www.playstation.com/tr-tr/games/pc-games/?smcid=other%3Atr-tr%3Ablank%3Aprimary%20nav%3Amsg-games%3Apc">
                                                                <span class="shared-nav-icon-text">PC</span>
                                                            </a>
                                                        </div>
                                                        <div class="shared-nav__secondary-item">
                                                            <a id="link-secondary--msg-games-msg-ps-plus" class="shared-nav__secondary-anchor shared-nav-anchor dtm-no-track shared-nav-link-icon shared-nav-link-icon--psplusgames" href="https://www.playstation.com/tr-tr/ps-plus/games/?smcid=other%3Atr-tr%3Ablank%3Aprimary%20nav%3Amsg-games%3Aps-plus">
                                                                <span class="shared-nav-icon-text">PS Plus</span>
                                                            </a>
                                                        </div>
                                                    </section>
                                                </div>
                                            </div>
                                        </div>
                                        <div class="shared-nav__primary-item">
                                            <button class="shared-nav__primary-button shared-nav-button shared-nav-icon shared-nav-icon--chevron-after dtm-no-track shared-nav-mobile-icon shared-nav-icon--ps5" id="menu-button-primary--msg-ps5">PS5</button>
                                            <div class="shared-nav__secondary-parent shared-nav__secondary-parent--msg_ps5">
                                                <div class="shared-nav__secondary-container">
                                                    <h3 id="shared-nav__secondary-header--msg-ps5" class="shared-nav__secondary-header">
                                                        <button class="shared-nav__secondary-header-toggle shared-nav-button shared-nav-icon shared-nav-icon--hamburger">PS5
                    </button>
                                                    </h3>
                                                    <section aria-label="Dropdown Menu" class="shared-nav__secondary shared-nav-list">
                                                        <div class="shared-nav__secondary-item">
                                                            <a id="link-secondary--msg-ps5-msg-console" class="shared-nav__secondary-anchor shared-nav-anchor dtm-no-track shared-nav-link-icon shared-nav-link-icon--ps5" href="https://www.playstation.com/tr-tr/ps5/?smcid=other%3Atr-tr%3Ablank%3Aprimary%20nav%3Amsg-ps5%3Akonsol">
                                                                <span class="shared-nav-icon-text">Konsol</span>
                                                            </a>
                                                        </div>
                                                        <div class="shared-nav__secondary-item">
                                                            <a id="link-secondary--msg-ps5-msg-games" class="shared-nav__secondary-anchor shared-nav-anchor dtm-no-track shared-nav-link-icon shared-nav-link-icon--games" href="https://www.playstation.com/tr-tr/ps5/games/?smcid=other%3Atr-tr%3Ablank%3Aprimary%20nav%3Amsg-ps5%3Aoyunlar">
                                                                <span class="shared-nav-icon-text">Oyunlar</span>
                                                            </a>
                                                        </div>
                                                        <div class="shared-nav__secondary-item">
                                                            <a id="link-secondary--msg-ps5-msg-controllers" class="shared-nav__secondary-anchor shared-nav-anchor dtm-no-track shared-nav-link-icon shared-nav-link-icon--dualSense" href="https://www.playstation.com/tr-tr/accessories/#controllers/?smcid=other%3Atr-tr%3Ablank%3Aprimary%20nav%3Amsg-ps5%3Akontrol-cihazlar">
                                                                <span class="shared-nav-icon-text">Kontrol cihazları</span>
                                                            </a>
                                                        </div>
                                                        <div class="shared-nav__secondary-item">
                                                            <a id="link-secondary--msg-ps5-msg-ps-vr2" class="shared-nav__secondary-anchor shared-nav-anchor dtm-no-track shared-nav-link-icon shared-nav-link-icon--psvr2" href="https://www.playstation.com/tr-tr/ps-vr2/?smcid=other%3Atr-tr%3Ablank%3Aprimary%20nav%3Amsg-ps5%3Aps-vr2">
                                                                <span class="shared-nav-icon-text">PS VR2</span>
                                                            </a>
                                                        </div>
                                                        <div class="shared-nav__secondary-item">
                                                            <a id="link-secondary--msg-ps5-msg-accessories-audio" class="shared-nav__secondary-anchor shared-nav-anchor dtm-no-track shared-nav-link-icon shared-nav-link-icon--pulse" href="https://www.playstation.com/tr-tr/accessories/#headsets/?smcid=other%3Atr-tr%3Ablank%3Aprimary%20nav%3Amsg-ps5%3Ases">
                                                                <span class="shared-nav-icon-text">Ses</span>
                                                            </a>
                                                        </div>
                                                    </section>
                                                </div>
                                            </div>
                                        </div>
                                        <div class="shared-nav__primary-item">
                                            <button class="shared-nav__primary-button shared-nav-button shared-nav-icon shared-nav-icon--chevron-after dtm-no-track shared-nav-mobile-icon shared-nav-icon--ps4" id="menu-button-primary--msg-ps4">PS4</button>
                                            <div class="shared-nav__secondary-parent shared-nav__secondary-parent--msg_ps4">
                                                <div class="shared-nav__secondary-container">
                                                    <h3 id="shared-nav__secondary-header--msg-ps4" class="shared-nav__secondary-header">
                                                        <button class="shared-nav__secondary-header-toggle shared-nav-button shared-nav-icon shared-nav-icon--hamburger">PS4
                    </button>
                                                    </h3>
                                                    <section aria-label="Dropdown Menu" class="shared-nav__secondary shared-nav-list">
                                                        <div class="shared-nav__secondary-item">
                                                            <a id="link-secondary--msg-ps4-msg-console" class="shared-nav__secondary-anchor shared-nav-anchor dtm-no-track shared-nav-link-icon shared-nav-link-icon--ps4pro" href="https://www.playstation.com/tr-tr/ps4/?smcid=other%3Atr-tr%3Ablank%3Aprimary%20nav%3Amsg-ps4%3Akonsol">
                                                                <span class="shared-nav-icon-text">Konsol</span>
                                                            </a>
                                                        </div>
                                                        <div class="shared-nav__secondary-item">
                                                            <a id="link-secondary--msg-ps4-msg-games" class="shared-nav__secondary-anchor shared-nav-anchor dtm-no-track shared-nav-link-icon shared-nav-link-icon--games" href="https://www.playstation.com/tr-tr/ps4/ps4-games/?smcid=other%3Atr-tr%3Ablank%3Aprimary%20nav%3Amsg-ps4%3Aoyunlar">
                                                                <span class="shared-nav-icon-text">Oyunlar</span>
                                                            </a>
                                                        </div>
                                                        <div class="shared-nav__secondary-item">
                                                            <a id="link-secondary--msg-ps4-msg-controllers" class="shared-nav__secondary-anchor shared-nav-anchor dtm-no-track shared-nav-link-icon shared-nav-link-icon--dualShock" href="https://www.playstation.com/tr-tr/accessories/dualshock-4-wireless-controller/?smcid=other%3Atr-tr%3Ablank%3Aprimary%20nav%3Amsg-ps4%3Akontrol-cihazlar">
                                                                <span class="shared-nav-icon-text">Kontrol cihazları</span>
                                                            </a>
                                                        </div>
                                                        <div class="shared-nav__secondary-item">
                                                            <a id="link-secondary--msg-ps4-msg-headsets" class="shared-nav__secondary-anchor shared-nav-anchor dtm-no-track shared-nav-link-icon shared-nav-link-icon--pulse" href="https://www.playstation.com/tr-tr/accessories/pulse-3d-wireless-headset/?smcid=other%3Atr-tr%3Ablank%3Aprimary%20nav%3Amsg-ps4%3Akulaklklar">
                                                                <span class="shared-nav-icon-text">Kulaklıklar</span>
                                                            </a>
                                                        </div>
                                                    </section>
                                                </div>
                                            </div>
                                        </div>
                                        <div class="shared-nav__primary-item">
                                            <button class="shared-nav__primary-button shared-nav-button shared-nav-icon shared-nav-icon--chevron-after dtm-no-track shared-nav-mobile-icon shared-nav-icon--services" id="menu-button-primary--msg-services">Hizmetler</button>
                                            <div class="shared-nav__secondary-parent shared-nav__secondary-parent--msg_services">
                                                <div class="shared-nav__secondary-container">
                                                    <h3 id="shared-nav__secondary-header--msg-services" class="shared-nav__secondary-header">
                                                        <button class="shared-nav__secondary-header-toggle shared-nav-button shared-nav-icon shared-nav-icon--hamburger">Hizmetler
                    </button>
                                                    </h3>
                                                    <section aria-label="Dropdown Menu" class="shared-nav__secondary shared-nav-list">
                                                        <div class="shared-nav__secondary-item">
                                                            <a id="link-secondary--msg-services-msg-ps-plus" class="shared-nav__secondary-anchor shared-nav-anchor dtm-no-track shared-nav-link-icon shared-nav-link-icon--psplus" href="https://www.playstation.com/tr-tr/ps-plus/?smcid=other%3Atr-tr%3Ablank%3Aprimary%20nav%3Amsg-services%3Aps-plus">
                                                                <span class="shared-nav-icon-text">PS Plus</span>
                                                            </a>
                                                        </div>
                                                    </section>
                                                </div>
                                            </div>
                                        </div>
                                        <div class="shared-nav__primary-item">
                                            <button class="shared-nav__primary-button shared-nav-button shared-nav-icon shared-nav-icon--chevron-after dtm-no-track shared-nav-mobile-icon shared-nav-icon--allAccesories" id="menu-button-primary--msg-accessories">Aksesuarlar</button>
                                            <div class="shared-nav__secondary-parent shared-nav__secondary-parent--msg_accessories">
                                                <div class="shared-nav__secondary-container">
                                                    <h3 id="shared-nav__secondary-header--msg-accessories" class="shared-nav__secondary-header">
                                                        <button class="shared-nav__secondary-header-toggle shared-nav-button shared-nav-icon shared-nav-icon--hamburger">Aksesuarlar
                    </button>
                                                    </h3>
                                                    <section aria-label="Dropdown Menu" class="shared-nav__secondary shared-nav-list">
                                                        <div class="shared-nav__secondary-item">
                                                            <a id="link-secondary--msg-accessories-msg-ps5-controllers" class="shared-nav__secondary-anchor shared-nav-anchor dtm-no-track shared-nav-link-icon shared-nav-link-icon--dualSense" href="https://www.playstation.com/tr-tr/accessories/#controllers/?smcid=other%3Atr-tr%3Ablank%3Aprimary%20nav%3Amsg-accessories%3Aps5-kontrol-cihazlar">
                                                                <span class="shared-nav-icon-text">PS5 kontrol cihazları</span>
                                                            </a>
                                                        </div>
                                                        <div class="shared-nav__secondary-item">
                                                            <a id="link-secondary--msg-accessories-msg-psportal" class="shared-nav__secondary-anchor shared-nav-anchor dtm-no-track shared-nav-link-icon shared-nav-link-icon--psportal" href="https://www.playstation.com/tr-tr/accessories/playstation-portal-remote-player/?smcid=other%3Atr-tr%3Ablank%3Aprimary%20nav%3Amsg-accessories%3Aplaystation-portal-uzaktan-oynama-cihaz">
                                                                <span class="shared-nav-icon-text">PlayStation Portal Uzaktan Oynama Cihazı</span>
                                                            </a>
                                                        </div>
                                                        <div class="shared-nav__secondary-item">
                                                            <a id="link-secondary--msg-accessories-msg-ps-vr2" class="shared-nav__secondary-anchor shared-nav-anchor dtm-no-track shared-nav-link-icon shared-nav-link-icon--psvr2" href="https://www.playstation.com/tr-tr/ps-vr2/?smcid=other%3Atr-tr%3Ablank%3Aprimary%20nav%3Amsg-accessories%3Aps-vr2">
                                                                <span class="shared-nav-icon-text">PS VR2</span>
                                                            </a>
                                                        </div>
                                                        <div class="shared-nav__secondary-item">
                                                            <a id="link-secondary--msg-accessories-msg-accessories-audio" class="shared-nav__secondary-anchor shared-nav-anchor dtm-no-track shared-nav-link-icon shared-nav-link-icon--pulse" href="https://www.playstation.com/tr-tr/accessories/#headsets/?smcid=other%3Atr-tr%3Ablank%3Aprimary%20nav%3Amsg-accessories%3Ases">
                                                                <span class="shared-nav-icon-text">Ses</span>
                                                            </a>
                                                        </div>
                                                        <div class="shared-nav__secondary-item">
                                                            <a id="link-secondary--msg-accessories-msg-all-accessories" class="shared-nav__secondary-anchor shared-nav-anchor dtm-no-track shared-nav-link-icon shared-nav-link-icon--allAccessories" href="https://www.playstation.com/tr-tr/accessories/?smcid=other%3Atr-tr%3Ablank%3Aprimary%20nav%3Amsg-accessories%3Atm-aksesuarlar">
                                                                <span class="shared-nav-icon-text">Tüm aksesuarlar</span>
                                                            </a>
                                                        </div>
                                                    </section>
                                                </div>
                                            </div>
                                        </div>
                                        <div class="shared-nav__primary-item">
                                            <button class="shared-nav__primary-button shared-nav-button shared-nav-icon shared-nav-icon--chevron-after dtm-no-track shared-nav-mobile-icon shared-nav-icon--news" id="menu-button-primary--msg-news">Haberler</button>
                                            <div class="shared-nav__secondary-parent shared-nav__secondary-parent--msg_news">
                                                <div class="shared-nav__secondary-container">
                                                    <h3 id="shared-nav__secondary-header--msg-news" class="shared-nav__secondary-header">
                                                        <button class="shared-nav__secondary-header-toggle shared-nav-button shared-nav-icon shared-nav-icon--hamburger">Haberler
                    </button>
                                                    </h3>
                                                    <section aria-label="Dropdown Menu" class="shared-nav__secondary shared-nav-list">
                                                        <div class="shared-nav__secondary-item">
                                                            <a id="link-secondary--msg-news-msg-ps-blog" class="shared-nav__secondary-anchor shared-nav-anchor dtm-no-track shared-nav-link-icon shared-nav-link-icon--psblog" href="https://blog.eu.playstation.com/?smcid=other%3Atr-tr%3Ablank%3Aprimary%20nav%3Amsg-news%3Aps-blog">
                                                                <span class="shared-nav-icon-text">PS Blog</span>
                                                            </a>
                                                        </div>
                                                        <div class="shared-nav__secondary-item">
                                                            <a id="link-secondary--msg-news-msg-month-ps" class="shared-nav__secondary-anchor shared-nav-anchor dtm-no-track shared-nav-link-icon shared-nav-link-icon--events" href="https://www.playstation.com/tr-tr/editorial/this-month-on-playstation/?smcid=other%3Atr-tr%3Ablank%3Aprimary%20nav%3Amsg-news%3Aplaystationda-bu-ay">
                                                                <span class="shared-nav-icon-text">PlayStation’da Bu Ay</span>
                                                            </a>
                                                        </div>
                                                    </section>
                                                </div>
                                            </div>
                                        </div>
                                        <div class="shared-nav__primary-item">
                                            <button class="shared-nav__primary-button shared-nav-button shared-nav-icon shared-nav-icon--chevron-after dtm-no-track shared-nav-mobile-icon shared-nav-icon--store" id="menu-button-primary--msg-store">Mağaza</button>
                                            <div class="shared-nav__secondary-parent shared-nav__secondary-parent--msg_store">
                                                <div class="shared-nav__secondary-container">
                                                    <h3 id="shared-nav__secondary-header--msg-store" class="shared-nav__secondary-header">
                                                        <button class="shared-nav__secondary-header-toggle shared-nav-button shared-nav-icon shared-nav-icon--hamburger">Mağaza
                    </button>
                                                    </h3>
                                                    <section aria-label="Dropdown Menu" class="shared-nav__secondary shared-nav-list">
                                                        <div class="shared-nav__secondary-item">
                                                            <a id="link-secondary--msg-store-msg-buy-games" class="shared-nav__secondary-anchor shared-nav-anchor dtm-no-track shared-nav-link-icon shared-nav-link-icon--psstore" href="https://store.playstation.com/tr-tr?smcid=other%3Atr-tr%3Ablank%3Aprimary%20nav%3Amsg-store%3Aoyun-satn-aln">
                                                                <span class="shared-nav-icon-text">Oyun satın alın</span>
                                                            </a>
                                                        </div>
                                                        <div class="shared-nav__secondary-item">
                                                            <a id="link-secondary--msg-store-msg-subscribe-ps-plus" class="shared-nav__secondary-anchor shared-nav-anchor dtm-no-track shared-nav-link-icon shared-nav-link-icon--psplus" href="https://www.playstation.com/tr-tr/ps-plus/?smcid=other%3Atr-tr%3Ablank%3Aprimary%20nav%3Amsg-store%3Aps-plusa-abone-olun">
                                                                <span class="shared-nav-icon-text">PS Plus’a abone olun</span>
                                                            </a>
                                                        </div>
                                                    </section>
                                                </div>
                                            </div>
                                        </div>
                                        <div class="shared-nav__primary-item">
                                            <button class="shared-nav__primary-button shared-nav-button shared-nav-icon shared-nav-icon--chevron-after dtm-no-track shared-nav-mobile-icon shared-nav-icon--help" id="menu-button-primary--msg-support">Destek</button>
                                            <div class="shared-nav__secondary-parent shared-nav__secondary-parent--msg_support">
                                                <div class="shared-nav__secondary-container">
                                                    <h3 id="shared-nav__secondary-header--msg-support" class="shared-nav__secondary-header">
                                                        <button class="shared-nav__secondary-header-toggle shared-nav-button shared-nav-icon shared-nav-icon--hamburger">Destek
                    </button>
                                                    </h3>
                                                    <section aria-label="Dropdown Menu" class="shared-nav__secondary shared-nav-list">
                                                        <div class="shared-nav__secondary-item">
                                                            <a id="link-secondary--msg-support-msg-support" class="shared-nav__secondary-anchor shared-nav-anchor dtm-no-track shared-nav-link-icon shared-nav-link-icon--helpandsupport" href="https://www.playstation.com/tr-tr/support/?smcid=other%3Atr-tr%3Ablank%3Aprimary%20nav%3Amsg-support%3Adestek">
                                                                <span class="shared-nav-icon-text">Destek</span>
                                                            </a>
                                                        </div>
                                                        <div class="shared-nav__secondary-item">
                                                            <a id="link-secondary--msg-support-msg-psn-status" class="shared-nav__secondary-anchor shared-nav-anchor dtm-no-track shared-nav-link-icon shared-nav-link-icon--psnstatus" href="https://status.playstation.com/?smcid=other%3Atr-tr%3Ablank%3Aprimary%20nav%3Amsg-support%3Apsn-durumu">
                                                                <span class="shared-nav-icon-text">PSN Durumu</span>
                                                            </a>
                                                        </div>
                                                    </section>
                                                </div>
                                            </div>
                                        </div>
                                    </section>
                                </div>
                            </nav>
                            <div id="sb-social-toolbar-root"></div>
                            <span class="shared-nav__ctas-container">
                                <button class="shared-nav-icon shared-nav-icon--hamburger shared-nav-hamburger dtm-no-track" aria-label="Menüyü Aç" aria-haspopup="true" aria-expanded="false"></button>
                                <span class="shared-nav-search-container">
                                    <button class="shared-nav-icon shared-nav-icon--search shared-nav-search dtm-no-track" data-qa="shared-nav-search-button">
                                        <span class="shared-nav-search__label">Arama</span>
                                        <svg aria-hidden="true" focusable="false" width="50px" height="50px" version="1.1" xmlns="http://www.w3.org/2000/svg" xmlns:xlink="http://www.w3.org/1999/xlink" viewBox="0 0 50 50">
                                            <g>
                                                <path d="M8,20.913 C8,14.344 13.344,9 19.913,9 C26.482,9 31.827,14.344 31.827,20.913 C31.827,27.482 26.482,32.827 19.913,32.827 C13.344,32.827 8,27.482 8,20.913 M45.112,43.585 L32.346,30.82 C34.518,28.099 35.827,24.658 35.827,20.913 C35.827,12.139 28.688,5 19.913,5 C11.139,5 4,12.139 4,20.913 C4,29.688 11.139,36.827 19.913,36.827 C23.503,36.827 26.808,35.618 29.474,33.604 L42.284,46.413 C42.674,46.804 43.186,46.999 43.698,46.999 C44.209,46.999 44.721,46.804 45.112,46.413 C45.502,46.023 45.698,45.511 45.698,44.999 C45.698,44.488 45.502,43.976 45.112,43.585"></path>
                                            </g>
                                        </svg>
                                    </button>
                                </span>
                            </span>
                        </section>
                    </div>
                </header>
            </div>
            <div id="__next">
                <section id="jetstream-tertiary-nav">
                    <div class="tertiary-container">
                        <div class="tertiary-container-inner">
                            <span class="tertiary-logo">
                                <a data-qa="/recently-purchased" id="" class="psw-link psw-content-link tertiary-tab__link p-x-s" aria-label="" aria-disabled="false" type="" href="/recently-purchased" rel="noopener noreferrer">
                                    <span>Oyun Kütüphanesi</span>
                                </a>
                            </span>
                            <div class="tertiary-carousels" data-qa="tertiary-carousels">
                                <div data-qa="l3-carousel-button-prev" class="carousel__overlay carousel__overlay--prev hide ">
                                    <button aria-hidden="true" class="carousel__button carousel__button--prev" id="prev-button" type="button"></button>
                                </div>
                                <ul class="carousel-tertiary-tabs">
                                    <li class="tertiary-tab">
                                        <a data-qa="recently-purchased" id="nav-l3-recently-purchased" class="psw-link psw-content-link tertiary-tab__link my-ps-tab" aria-label="" aria-disabled="false" type="" href="/recently-purchased" rel="noopener noreferrer">
                                            <span class="nav-menu__link psw-l-line-left">Satın Alınanlar</span>
                                        </a>
                                    </li>
                                    <li class="tertiary-tab">
                                        <a data-qa="recently-played" id="nav-l3-recently-played" class="psw-link psw-content-link tertiary-tab__link my-ps-tab tertiary-tab__link--active" aria-label="" aria-disabled="false" type="" href="/recently-played" rel="noopener noreferrer">
                                            <span class="nav-menu__link psw-l-line-left">Oynananlar</span>
                                        </a>
                                    </li>
                                    <li class="tertiary-tab">
                                        <a data-qa="downloads" id="nav-l3-downloads" class="psw-link psw-content-link tertiary-tab__link my-ps-tab" aria-label="" aria-disabled="false" type="" href="/downloads" rel="noopener noreferrer">
                                            <span class="nav-menu__link psw-l-line-left">İndirilenler</span>
                                        </a>
                                    </li>
                                    <li class="tertiary-tab">
                                        <a data-qa="ps-plus" id="nav-l3-ps-plus" class="psw-link psw-content-link tertiary-tab__link my-ps-tab" aria-label="" aria-disabled="false" type="" href="/ps-plus" rel="noopener noreferrer">
                                            <span class="nav-menu__link psw-l-line-left">PlayStation Plus</span>
                                        </a>
                                    </li>
                                </ul>
                                <div data-qa="l3-carousel-button-next" class="carousel__overlay carousel__overlay--next">
                                    <button aria-hidden="true" class="carousel__button carousel__button--next" id="next-button" type="button"></button>
                                </div>
                            </div>
                        </div>
                    </div>
                </section>
                <main id="main" class="game-library psw-c-bg-2" data-qa="game-library">
                    <div class="game-library__page-load psw-l-line-center" aria-live="polite" data-qa="collection-loading">
                        <span data-qa="" style="width:64px;min-width:64px" class="psw-media-frame psw-fill-x psw-image psw-spin psw-aspect-1-1">
                            <img aria-hidden="true" loading="lazy" data-qa="#preview" alt="İçerik yükleniyor..." class="psw-blur psw-center psw-l-fit-cover" src="https://image.api.playstation.com/static/prod/public/images/v0/loading-circle-dark.png?w=54&amp;thumb=true"/>
                            <img loading="lazy" data-qa="#image" alt="İçerik yükleniyor..." class="psw-visually-hide psw-center psw-l-fit-cover" src="https://image.api.playstation.com/static/prod/public/images/v0/loading-circle-dark.png?w=94" srcSet="https://image.api.playstation.com/static/prod/public/images/v0/loading-circle-dark.png?w=94&amp;thumb=false, https://image.api.playstation.com/static/prod/public/images/v0/loading-circle-dark.png?w=180&amp;thumb=false 1.5x, https://image.api.playstation.com/static/prod/public/images/v0/loading-circle-dark.png?w=180&amp;thumb=false 2x"/>
                            <noscript class="psw-layer">
                                <img class="psw-center psw-l-fit-cover" loading="lazy" data-qa="#image-no-js" alt="İçerik yükleniyor..." src="https://static.playstation.com/images/v0/loading-circle-dark.png"/>
                            </noscript>
                        </span>
                    </div>
                </main>
            </div>
            <script id="__NEXT_DATA__" type="application/json">
                {
                    "props": {
                        "host": "library.playstation.com",
                        "pageProps": {
                            "collection": "recently-played",
                            "collections": [
                                {
                                    "page": "/[collection]",
                                    "as": "/recently-purchased",
                                    "route": "recently-purchased",
                                    "label": "msgid_purchased"
                                },
                                {
                                    "page": "/[collection]",
                                    "as": "/recently-played",
                                    "route": "recently-played",
                                    "label": "msgid_played"
                                },
                                {
                                    "page": "/[collection]",
                                    "as": "/downloads",
                                    "route": "downloads",
                                    "label": "msgid_downloads"
                                },
                                {
                                    "page": "/[collection]",
                                    "as": "/ps-plus",
                                    "route": "ps-plus",
                                    "label": "msgid_sr_ps_plus"
                                },
                                {
                                    "page": "/[collection]",
                                    "as": "/ps-now",
                                    "route": "ps-now",
                                    "label": "msgid_ps_now"
                                }
                            ],
                            "page": 1
                        },
                        "appProps": {
                            "session": {
                                "userData": {
                                    "relationship": "SELF",
                                    "avatar": {
                                        "url": "https://static-resource.e1-np.community.playstation.net/avatar/default/DefaultAvatar.png?w=96"
                                    },
                                    "chatPermission": {
                                        "scope": 0,
                                        "term": 0
                                    },
                                    "country": "TR",
                                    "isLoggedIn": true,
                                    "isOfficiallyVerified": false,
                                    "isOnline": true,
                                    "isPsPlusMember": true,
                                    "isSubaccount": false,
                                    "language": "tr",
                                    "locale": "tr-TR",
                                    "name": "Emre Eryilmaz",
                                    "profilePicture": {
                                        "url": "https://static-resource.e1-np.community.playstation.net/avatar/default/DefaultAvatar.png?w=96"
                                    },
                                    "localeSupport": "",
                                    "age": 41,
                                    "email": "dtisileryilmaz@gmail.com",
                                    "accountId": "5413268878449168901",
                                    "accountUuid": "87489f9e-5da6-42ed-bd95-970c628eec13",
                                    "realName": {
                                        "name": {
                                            "first": "Emre",
                                            "last": "Eryilmaz"
                                        }
                                    },
                                    "isBanned": false,
                                    "isSuspended": false,
                                    "onlineId": "theagoksel-8x",
                                    "securityResetVersion": 1,
                                    "toSUAVersion": 8,
                                    "hasPin": false,
                                    "customerSince": "2016-02-09T14:25:46.867+0000",
                                    "phones": [
                                        {
                                            "id": "dc4e1a57-cf37-4ce7-a043-20d6f6c1d402",
                                            "isVerified": true,
                                            "verificationDate": "2023-10-29T08:58:13.065+0000",
                                            "phone": "******8853",
                                            "countryCode": "90",
                                            "qualifier": "mobile",
                                            "isMain": true
                                        }
                                    ],
                                    "verificationStatus": "VERIFIED",
                                    "lastUpdateDate": "2024-10-30T20:27:32.008+0000",
                                    "region": "SCEE",
                                    "npStatusValue": "ACTIVE",
                                    "adultVerificationStatus": "NOT_REQUIRED",
                                    "psPlusSubscription": {
                                        "psPlusTier": "TIER_10",
                                        "status": "SUBSCRIBED",
                                        "duration": "1 MONTH",
                                        "flag": "",
                                        "isTrial": false,
                                        "isPsPlusMember": true
                                    },
                                    "ubisoftPlusSubscription": {
                                        "status": "NEVER",
                                        "active": false,
                                        "eligibleForTrial": false
                                    },
                                    "gtaPlusSubscription": {
                                        "status": "NEVER",
                                        "active": false,
                                        "eligibleForTrial": false
                                    },
                                    "emsCriteria": {
                                        "psPlus": "active_1m_false_true_true",
                                        "psNow": "never_none_true_false_false",
                                        "eaAccess": "never_none_false_false_false",
                                        "ubisoftPlus": "never_none_false_false_false",
                                        "gtaPlus": "never_none_false_false_false"
                                    },
                                    "hashedAccountId": "5546693bc0c19af8df56bdc42cb17584d7d629b5d77dea291e253f6d76f849e3",
                                    "avatarUrl": "https://static-resource.np.community.playstation.net/avatar_xl/SCEI/I0015_XL.png",
                                    "profilePictureUrl": "https://static-resource.np.community.playstation.net/avatar_xl/SCEI/I0015_XL.png",
                                    "displayName": "Emre Eryilmaz",
                                    "loyaltySubscription": {
                                        "isUserEnrolled": false,
                                        "isUserEligibleToEnroll": false,
                                        "enrollStatus": "NOT_ENROLLED",
                                        "statusLevel": "NO_LOYALTY_LEVEL",
                                        "requiresTosAcceptance": true
                                    },
                                    "authenticationMode": {
                                        "authMethod": "STANDARD"
                                    },
                                    "ws2Settings": {
                                        "personalizedads": "enabled",
                                        "personalizedrecommendations": "enabled",
                                        "personalizedmedia": "enabled",
                                        "personalizedmaster": "enabled"
                                    }
                                },
                                "redirectUri": "http://library.playstation.com{port}/library/recently-played",
                                "referrerUrl": "https://www.playstation.com/"
                            },
                            "translations": {
                                "language": "tr-tr",
                                "keys": {
                                    "msgid_purchased": "Satın Alınanlar",
                                    "msgid_played": "Oynananlar",
                                    "msgid_downloads": "İndirilenler",
                                    "msgid_sr_ps_plus": "PlayStation Plus",
                                    "msgid_game_library": "Oyun Kütüphanesi",
                                    "msgid_sr_content_loading": "İçerik yükleniyor..."
                                }
                            }
                        },
                        "apolloState": {
                            "ROOT_QUERY": {
                                "__typename": "Query",
                                "featuresRetrieve({\"features\":[\"SPARTACUS\"]})": [
                                    "SPARTACUS"
                                ],
                                "gameLibraryTitlesRetrieve({\"categories\":\"ps4_game,ps5_native_game\",\"limit\":50})": {
                                    "__typename": "GameList",
                                    "games": [
                                        {
                                            "__typename": "GameLibraryTitle",
                                            "conceptId": "10010451",
                                            "entitlementId": "UB0335-PPSA21669_00-0320312678245089",
                                            "image": {
                                                "__typename": "Media",
                                                "url": "https://image.api.playstation.com/sgst/prod/00/PPSA21669_00/app/info/34/fi_acdffcdd418a93744c40e014fdd945c0f8243260b085dbb06367e3b54f6b2e0f/icon0.png"
                                            },
                                            "isActive": true,
                                            "lastPlayedDateTime": "2024-12-28T21:07:22.410000Z",
                                            "name": "Marvel Rivals",
                                            "platform": "PS5",
                                            "productId": "UB0335-PPSA21669_00-0320312678245089",
                                            "membership": "NONE",
                                            "titleId": "PPSA21669_00"
                                        },
                                        {
                                            "__typename": "GameLibraryTitle",
                                            "conceptId": "10010481",
                                            "entitlementId": "EP1001-PPSA22121_00-NBA2K25000000000",
                                            "image": {
                                                "__typename": "Media",
                                                "url": "https://image.api.playstation.com/sgst/prod/00/PPSA22121_00/app/info/50/fi_55bf642dc0bfa03d83f3b49d7468f821f0347664a08b9a38168f0727d8eb2425/icon0.png"
                                            },
                                            "isActive": true,
                                            "lastPlayedDateTime": "2024-12-28T19:15:51.480000Z",
                                            "name": "NBA 2K25",
                                            "platform": "PS5",
                                            "productId": "EP1001-PPSA22121_00-NBA2K25ALLSTAR00",
                                            "membership": "NONE",
                                            "titleId": "PPSA22121_00"
                                        },
                                        {
                                            "__typename": "GameLibraryTitle",
                                            "conceptId": "10004708",
                                            "entitlementId": "EP1001-PPSA06899_00-BASEGAME00000000",
                                            "image": {
                                                "__typename": "Media",
                                                "url": "https://image.api.playstation.com/sgst/prod/00/PPSA06899_00/app/info/93/fi_9c10ca96da4c268dfe6590537fe123de29017daebf4337fd355248d9bcba60c7/icon0.png"
                                            },
                                            "isActive": true,
                                            "lastPlayedDateTime": "2024-12-18T21:07:03.910000Z",
                                            "name": "TopSpin 2K25",
                                            "platform": "PS5",
                                            "productId": "EP1001-PPSA06899_00-TS2K25CROSSGENED",
                                            "membership": "NONE",
                                            "titleId": "PPSA06899_00"
                                        },
                                        {
                                            "__typename": "GameLibraryTitle",
                                            "conceptId": "10005114",
                                            "entitlementId": "EP0006-PPSA07784_00-RESPAWNAPPLEJACK",
                                            "image": {
                                                "__typename": "Media",
                                                "url": "https://image.api.playstation.com/sgst/prod/00/PPSA07784_00/app/info/27/fi_1bdf76bf8a68f661b9bea79b9c50823177528799b27bccabb955faabb967006e/icon0.png"
                                            },
                                            "isActive": true,
                                            "lastPlayedDateTime": "2024-12-17T16:31:36.160000Z",
                                            "name": "STAR WARS Jedi: Survivor™",
                                            "platform": "PS5",
                                            "productId": "EP0006-PPSA07784_00-APPLEJACKGAME000",
                                            "membership": "NONE",
                                            "titleId": "PPSA07784_00"
                                        },
                                        {
                                            "__typename": "GameLibraryTitle",
                                            "conceptId": "10001738",
                                            "entitlementId": "EP0096-CUSA25165_00-0482907501575646",
                                            "image": {
                                                "__typename": "Media",
                                                "url": "https://image.api.playstation.com/gs2-sec/appkgo/prod/CUSA25165_00/4/i_5728cf01f68b0d9f16b1b0ef62cb65eafb85912f076dac4391d2a00e8ad6ccf0/i/icon0.png"
                                            },
                                            "isActive": true,
                                            "lastPlayedDateTime": "2024-12-05T22:53:53.130000Z",
                                            "name": "Secret Neighbor",
                                            "platform": "PS4",
                                            "productId": "EP0096-CUSA25165_00-0482907501575646",
                                            "membership": "NONE",
                                            "titleId": "CUSA25165_00"
                                        },
                                        {
                                            "__typename": "GameLibraryTitle",
                                            "conceptId": "233383",
                                            "entitlementId": "EP1018-PPSA07257_00-GOTHAMKNIGHTS000",
                                            "image": {
                                                "__typename": "Media",
                                                "url": "https://image.api.playstation.com/sgst/prod/00/PPSA07257_00/app/info/47/fi_1c2545cd8b30f062d4c59ce65732f0efbe732c4921efe3b31368b77a13ec3d91/icon0.png"
                                            },
                                            "isActive": true,
                                            "lastPlayedDateTime": "2024-12-01T20:21:24.580000Z",
                                            "name": "Gotham Knights",
                                            "platform": "PS5",
                                            "productId": "EP1018-PPSA07257_00-GOTHAMKNIGHTS000",
                                            "membership": "NONE",
                                            "titleId": "PPSA07257_00"
                                        },
                                        {
                                            "__typename": "GameLibraryTitle",
                                            "conceptId": "10009762",
                                            "entitlementId": null,
                                            "image": {
                                                "__typename": "Media",
                                                "url": "https://image.api.playstation.com/vulcan/ap/rnd/202409/2712/1e1c42b14d92280e17bda697b8c4ae13ff9f91bdb10fca89.png"
                                            },
                                            "isActive": null,
                                            "lastPlayedDateTime": "2024-11-30T22:40:47.340000Z",
                                            "name": "EA SPORTS FC™ 25",
                                            "platform": "PS5",
                                            "productId": null,
                                            "membership": "NONE",
                                            "titleId": "PPSA22179_00"
                                        },
                                        {
                                            "__typename": "GameLibraryTitle",
                                            "conceptId": "10004865",
                                            "entitlementId": "EP0001-PPSA13960_00-GAME000000000000",
                                            "image": {
                                                "__typename": "Media",
                                                "url": "https://image.api.playstation.com/sgst/prod/00/PPSA13960_00/app/info/24/fi_e5c5c54a055dfe11e7f2831685bebfee074f849b9a6f0fb4e22fbb20588f2754/icon0.png"
                                            },
                                            "isActive": true,
                                            "lastPlayedDateTime": "2024-11-30T10:58:14.080000Z",
                                            "name": "Assassin's Creed® Mirage",
                                            "platform": "PS5",
                                            "productId": "EP0001-PPSA13960_00-EDITIONSTANDARD0",
                                            "membership": "NONE",
                                            "titleId": "PPSA13960_00"
                                        },
                                        {
                                            "__typename": "GameLibraryTitle",
                                            "conceptId": "10000781",
                                            "entitlementId": "EP0006-CUSA23265_00-NEEDFORSPEEDHPR0",
                                            "image": {
                                                "__typename": "Media",
                                                "url": "https://image.api.playstation.com/gs2-sec/appkgo/prod/CUSA23265_00/2/i_36c32a88c8ef3ab744def2d1709253e3929d92c86e98841cfacb94c4faf54b6e/i/icon0.png"
                                            },
                                            "isActive": true,
                                            "lastPlayedDateTime": "2024-11-15T15:34:13.440000Z",
                                            "name": "Need For Speed™ Hot Pursuit Remastered",
                                            "platform": "PS4",
                                            "productId": "EP0006-CUSA23265_00-NEEDFORSPEEDHPR0",
                                            "membership": "NONE",
                                            "titleId": "CUSA23265_00"
                                        },
                                        {
                                            "__typename": "GameLibraryTitle",
                                            "conceptId": "233064",
                                            "entitlementId": "EP1018-PPSA01696_00-BACK4BLOOD000000",
                                            "image": {
                                                "__typename": "Media",
                                                "url": "https://image.api.playstation.com/sgst/prod/00/PPSA01696_00/app/info/46/fi_ff33b45c33e0d75841bf2ef5ced1ec3e8cd3e0d5a639a5a868896c7d3f35306a/icon0.png"
                                            },
                                            "isActive": false,
                                            "lastPlayedDateTime": "2024-10-06T20:39:27.220000Z",
                                            "name": "Back 4 Blood",
                                            "platform": "PS5",
                                            "productId": "EP1018-PPSA01696_00-BACK4BLOOD000000",
                                            "membership": "NONE",
                                            "titleId": "PPSA01696_00"
                                        },
                                        {
                                            "__typename": "GameLibraryTitle",
                                            "conceptId": "10007176",
                                            "entitlementId": null,
                                            "image": {
                                                "__typename": "Media",
                                                "url": "https://image.api.playstation.com/vulcan/ap/rnd/202406/1122/7a3b10ed3abad7f4f23f7f148e7e48e78e2cc8dc0c541090.png"
                                            },
                                            "isActive": null,
                                            "lastPlayedDateTime": "2024-09-04T11:34:15.990000Z",
                                            "name": "EA SPORTS FC™ 24",
                                            "platform": "PS5",
                                            "productId": null,
                                            "membership": "NONE",
                                            "titleId": "PPSA13390_00"
                                        },
                                        {
                                            "__typename": "GameLibraryTitle",
                                            "conceptId": "10005940",
                                            "entitlementId": "EP3643-PPSA09683_00-000HOTLINEMIAMI1",
                                            "image": {
                                                "__typename": "Media",
                                                "url": "https://image.api.playstation.com/sgst/prod/00/PPSA09683_00/app/info/4/fi_f4fa3d101b872be949090e5327f695b1ea553ec14035ef8509a23c7a36fcc237/icon0.png"
                                            },
                                            "isActive": false,
                                            "lastPlayedDateTime": "2024-08-15T01:05:11.450000Z",
                                            "name": "Hotline Miami",
                                            "platform": "PS5",
                                            "productId": "EP3643-PPSA09683_00-7596522310430398",
                                            "membership": "NONE",
                                            "titleId": "PPSA09683_00"
                                        },
                                        {
                                            "__typename": "GameLibraryTitle",
                                            "conceptId": "10003143",
                                            "entitlementId": "EP0001-PPSA04719_00-ANNO1800PS000000",
                                            "image": {
                                                "__typename": "Media",
                                                "url": "https://image.api.playstation.com/sgst/prod/00/PPSA04719_00/app/info/85/fi_8f43fa053798cb8067c61fbf907b9d98ab6618163bb244ea0bdc2824fbd9a2f4/icon0.png"
                                            },
                                            "isActive": false,
                                            "lastPlayedDateTime": "2024-07-30T21:50:33.090000Z",
                                            "name": "Anno 1800 Console Edition",
                                            "platform": "PS5",
                                            "productId": "EP0001-PPSA04719_00-ANNO1800PS000000",
                                            "membership": "NONE",
                                            "titleId": "PPSA04719_00"
                                        },
                                        {
                                            "__typename": "GameLibraryTitle",
                                            "conceptId": "10001973",
                                            "entitlementId": null,
                                            "image": {
                                                "__typename": "Media",
                                                "url": "https://image.api.playstation.com/vulcan/img/rnd/202201/1616/THJbARAq2YiRVUv5abCQ8GYQ.png"
                                            },
                                            "isActive": null,
                                            "lastPlayedDateTime": "2024-07-28T11:41:19.320000Z",
                                            "name": "Sifu",
                                            "platform": "PS5",
                                            "productId": null,
                                            "membership": "NONE",
                                            "titleId": "PPSA03001_00"
                                        },
                                        {
                                            "__typename": "GameLibraryTitle",
                                            "conceptId": "203897",
                                            "entitlementId": "EP0001-PPSA01660_00-RAINBOWSIXSIEGE0",
                                            "image": {
                                                "__typename": "Media",
                                                "url": "https://image.api.playstation.com/sgst/prod/00/PPSA01660_00/app/info/157/fi_72865251e54a5efd45a305cd1adc1747a23eaa28ca274ce50a2c5b71ef7f00f6/icon0.png"
                                            },
                                            "isActive": true,
                                            "lastPlayedDateTime": "2024-07-25T14:27:25.920000Z",
                                            "name": "Tom Clancy's Rainbow Six® Siege",
                                            "platform": "PS5",
                                            "productId": "EP0001-PPSA01660_00-RB6SIEGEDELUXE09",
                                            "membership": "NONE",
                                            "titleId": "PPSA01660_00"
                                        },
                                        {
                                            "__typename": "GameLibraryTitle",
                                            "conceptId": "204572",
                                            "entitlementId": null,
                                            "image": {
                                                "__typename": "Media",
                                                "url": "https://image.api.playstation.com/gs2-sec/appkgo/prod/CUSA00375_00/4/i_8b02a87702b3aa78105fcdd53f4251d20088e0954614b67ece693a3ee9ecfca2/i/icon0.png"
                                            },
                                            "isActive": null,
                                            "lastPlayedDateTime": "2024-07-21T14:04:46.730000Z",
                                            "name": "The Evil Within",
                                            "platform": "PS4",
                                            "productId": null,
                                            "membership": "NONE",
                                            "titleId": "CUSA00375_00"
                                        },
                                        {
                                            "__typename": "GameLibraryTitle",
                                            "conceptId": "10007176",
                                            "entitlementId": null,
                                            "image": {
                                                "__typename": "Media",
                                                "url": "https://image.api.playstation.com/vulcan/ap/rnd/202406/1122/7a3b10ed3abad7f4f23f7f148e7e48e78e2cc8dc0c541090.png"
                                            },
                                            "isActive": null,
                                            "lastPlayedDateTime": "2024-07-19T21:32:53.690000Z",
                                            "name": "EA SPORTS FC™ 24",
                                            "platform": "PS4",
                                            "productId": null,
                                            "membership": "NONE",
                                            "titleId": "CUSA40325_00"
                                        },
                                        {
                                            "__typename": "GameLibraryTitle",
                                            "conceptId": "10000333",
                                            "entitlementId": null,
                                            "image": {
                                                "__typename": "Media",
                                                "url": "https://image.api.playstation.com/vulcan/ap/rnd/202107/0902/fS3Hhaq06TqLrbjMVplA8MaY.png"
                                            },
                                            "isActive": null,
                                            "lastPlayedDateTime": "2024-07-08T16:03:42.220000Z",
                                            "name": "ELDEN RING",
                                            "platform": "PS5",
                                            "productId": null,
                                            "membership": "NONE",
                                            "titleId": "PPSA04609_00"
                                        },
                                        {
                                            "__typename": "GameLibraryTitle",
                                            "conceptId": "10002456",
                                            "entitlementId": null,
                                            "image": {
                                                "__typename": "Media",
                                                "url": "https://image.api.playstation.com/vulcan/ap/rnd/202306/1219/1c7b75d8ed9271516546560d219ad0b22ee0a263b4537bd8.png"
                                            },
                                            "isActive": null,
                                            "lastPlayedDateTime": "2024-07-08T14:17:47.950000Z",
                                            "name": "Marvel's Spider-Man 2",
                                            "platform": "PS5",
                                            "productId": null,
                                            "membership": "NONE",
                                            "titleId": "PPSA08338_00"
                                        },
                                        {
                                            "__typename": "GameLibraryTitle",
                                            "conceptId": "216489",
                                            "entitlementId": "EP0001-CUSA04323_00-SOUTHPARKTFBW000",
                                            "image": {
                                                "__typename": "Media",
                                                "url": "https://image.api.playstation.com/gs2-sec/appkgo/prod/CUSA04323_00/2/i_8123015157a583d158c0d1fdcfbcff2603ba7e58c0c2661024a3ede162816755/i/icon0.png"
                                            },
                                            "isActive": false,
                                            "lastPlayedDateTime": "2024-06-18T14:37:20.350000Z",
                                            "name": "South Park™: The Fractured But Whole™",
                                            "platform": "PS4",
                                            "productId": "EP0001-CUSA04323_00-SOUTHPARKTFBW000",
                                            "membership": "NONE",
                                            "titleId": "CUSA04323_00"
                                        },
                                        {
                                            "__typename": "GameLibraryTitle",
                                            "conceptId": "10007788",
                                            "entitlementId": "EP1001-PPSA15302_00-NBA2K24000000000",
                                            "image": {
                                                "__typename": "Media",
                                                "url": "https://image.api.playstation.com/sgst/prod/00/PPSA15302_00/app/info/62/fi_766112966ed0a6dcfc32165ca71bc11f9e7ce7fd024fb3f510d0469c74e9b059/icon0.png"
                                            },
                                            "isActive": false,
                                            "lastPlayedDateTime": "2024-06-16T16:16:13.710000Z",
                                            "name": "NBA 2K24",
                                            "platform": "PS5",
                                            "productId": "EP1001-PPSA15302_00-NBA2K24000000000",
                                            "membership": "NONE",
                                            "titleId": "PPSA15302_00"
                                        },
                                        {
                                            "__typename": "GameLibraryTitle",
                                            "conceptId": "228857",
                                            "entitlementId": null,
                                            "image": {
                                                "__typename": "Media",
                                                "url": "https://image.api.playstation.com/vulcan/img/rnd/202111/3019/oXPtJkwSeNlYon2MqTX9K4sQ.png"
                                            },
                                            "isActive": null,
                                            "lastPlayedDateTime": "2024-05-20T11:31:13.880000Z",
                                            "name": "The Sims™ 4",
                                            "platform": "UNKNOWN",
                                            "productId": null,
                                            "membership": "NONE",
                                            "titleId": "CUSA09216_00"
                                        },
                                        {
                                            "__typename": "GameLibraryTitle",
                                            "conceptId": "10000237",
                                            "entitlementId": "EP0001-PPSA01532_00-GAME000000000000",
                                            "image": {
                                                "__typename": "Media",
                                                "url": "https://image.api.playstation.com/sgst/prod/00/PPSA01532_00/app/info/73/fi_1c2b7395afd1a0dafabc4ffafa4709775c2bd11eb206a7f8f6e9685c9893f698/icon0.png"
                                            },
                                            "isActive": true,
                                            "lastPlayedDateTime": "2024-04-05T18:21:44.570000Z",
                                            "name": "Assassin's Creed® Valhalla",
                                            "platform": "PS5",
                                            "productId": "EP0001-CUSA18535_00-EDITIONSTANDARD0",
                                            "membership": "NONE",
                                            "titleId": "PPSA01532_00"
                                        },
                                        {
                                            "__typename": "GameLibraryTitle",
                                            "conceptId": "10001478",
                                            "entitlementId": null,
                                            "image": {
                                                "__typename": "Media",
                                                "url": "https://image.api.playstation.com/vulcan/img/rnd/202109/2709/wMyl8RQ9Tvi99wjgPPEBGVyX.png"
                                            },
                                            "isActive": null,
                                            "lastPlayedDateTime": "2024-01-27T00:24:21.040000Z",
                                            "name": "Alan Wake Remastered",
                                            "platform": "PS5",
                                            "productId": null,
                                            "membership": "NONE",
                                            "titleId": "PPSA01925_00"
                                        },
                                        {
                                            "__typename": "GameLibraryTitle",
                                            "conceptId": "203897",
                                            "entitlementId": null,
                                            "image": {
                                                "__typename": "Media",
                                                "url": "https://image.api.playstation.com/vulcan/ap/rnd/202209/0617/eiXonwxcJH00bkGo3G6lUm9t.png"
                                            },
                                            "isActive": null,
                                            "lastPlayedDateTime": "2023-10-27T22:48:35.250000Z",
                                            "name": "Tom Clancy's Rainbow Six® Siege",
                                            "platform": "PS4",
                                            "productId": null,
                                            "membership": "NONE",
                                            "titleId": "CUSA01788_00"
                                        },
                                        {
                                            "__typename": "GameLibraryTitle",
                                            "conceptId": "227121",
                                            "entitlementId": "EP2165-CUSA06846_00-F13GAMEXXXXXXXXX",
                                            "image": {
                                                "__typename": "Media",
                                                "url": "https://image.api.playstation.com/gs2-sec/appkgo/prod/CUSA06846_00/5/i_99f2cc5b54c2c96b718b558a4f547f5aaf0dcb44799dfc118090a3bd9af10246/i/icon0.png"
                                            },
                                            "isActive": true,
                                            "lastPlayedDateTime": "2023-10-12T14:19:57.230000Z",
                                            "name": "Friday the 13th: The Game",
                                            "platform": "PS4",
                                            "productId": "EP2165-CUSA06846_00-F13GAMEXXXXXXXXX",
                                            "membership": "NONE",
                                            "titleId": "CUSA06846_00"
                                        },
                                        {
                                            "__typename": "GameLibraryTitle",
                                            "conceptId": "10004336",
                                            "entitlementId": null,
                                            "image": {
                                                "__typename": "Media",
                                                "url": "https://image.api.playstation.com/vulcan/ap/rnd/202301/0312/yM0eeJui8AFByeP5BC5XV5j9.png"
                                            },
                                            "isActive": null,
                                            "lastPlayedDateTime": "2023-09-04T14:15:05.970000Z",
                                            "name": "EA SPORTS™ FIFA 23",
                                            "platform": "UNKNOWN",
                                            "productId": null,
                                            "membership": "NONE",
                                            "titleId": "CUSA31874_00"
                                        },
                                        {
                                            "__typename": "GameLibraryTitle",
                                            "conceptId": "10002811",
                                            "entitlementId": "EP7028-CUSA27793_00-AMONGUSSONYPS4EU",
                                            "image": {
                                                "__typename": "Media",
                                                "url": "https://image.api.playstation.com/gs2-sec/appkgo/prod/CUSA27793_00/5/i_ac9f203e7d560bedeaf201610f70ba91c7ce00ea0f3714f19fd01f347caa5b03/i/icon0.png"
                                            },
                                            "isActive": true,
                                            "lastPlayedDateTime": "2023-08-30T22:32:20.500000Z",
                                            "name": "Among Us",
                                            "platform": "PS4",
                                            "productId": "EP7028-CUSA27793_00-AMONGUS4SIEE0001",
                                            "membership": "NONE",
                                            "titleId": "CUSA27793_00"
                                        },
                                        {
                                            "__typename": "GameLibraryTitle",
                                            "conceptId": "10003354",
                                            "entitlementId": "EP1464-CUSA29237_00-FALLGUYS00000000",
                                            "image": {
                                                "__typename": "Media",
                                                "url": "https://image.api.playstation.com/gs2-sec/appkgo/prod/CUSA29237_00/3/i_f0064eb90fbcaa7e93247b920cd5702108ca5a3544a2d3340526c6338c9a562a/i/icon0.png"
                                            },
                                            "isActive": true,
                                            "lastPlayedDateTime": "2023-08-22T22:05:52.560000Z",
                                            "name": "Fall Guys: Ultimate Knockout",
                                            "platform": "PS4",
                                            "productId": "EP1464-CUSA29237_00-FALLGUYS00000000",
                                            "membership": "NONE",
                                            "titleId": "CUSA29237_00"
                                        },
                                        {
                                            "__typename": "GameLibraryTitle",
                                            "conceptId": "232898",
                                            "entitlementId": null,
                                            "image": {
                                                "__typename": "Media",
                                                "url": "https://image.api.playstation.com/vulcan/img/rnd/202010/1700/B66T6RbAfvIGjpEQxPq7k0Mu.png"
                                            },
                                            "isActive": null,
                                            "lastPlayedDateTime": "2023-08-21T22:12:14.650000Z",
                                            "name": "Sekiro™: Shadows Die Twice",
                                            "platform": "UNKNOWN",
                                            "productId": null,
                                            "membership": "NONE",
                                            "titleId": "CUSA13801_00"
                                        },
                                        {
                                            "__typename": "GameLibraryTitle",
                                            "conceptId": "10000333",
                                            "entitlementId": null,
                                            "image": {
                                                "__typename": "Media",
                                                "url": "https://image.api.playstation.com/vulcan/ap/rnd/202107/0902/fS3Hhaq06TqLrbjMVplA8MaY.png"
                                            },
                                            "isActive": null,
                                            "lastPlayedDateTime": "2023-04-07T09:03:52.370000Z",
                                            "name": "ELDEN RING",
                                            "platform": "UNKNOWN",
                                            "productId": null,
                                            "membership": "NONE",
                                            "titleId": "CUSA18723_00"
                                        },
                                        {
                                            "__typename": "GameLibraryTitle",
                                            "conceptId": "10004836",
                                            "entitlementId": "EP1001-CUSA33075_00-NBA2K23000000000",
                                            "image": {
                                                "__typename": "Media",
                                                "url": "https://image.api.playstation.com/gs2-sec/appkgo/prod/CUSA33075_00/2/i_9bfe6d82a171b718eb12e879d63f909ec9cf2b576898ee7ee0f71542a436f5a9/i/icon0.png"
                                            },
                                            "isActive": true,
                                            "lastPlayedDateTime": "2023-01-28T12:38:57.170000Z",
                                            "name": "NBA 2K23",
                                            "platform": "PS4",
                                            "productId": "EP1001-CUSA33075_00-NBA2K23MCHLJRDN0",
                                            "membership": "NONE",
                                            "titleId": "CUSA33075_00"
                                        },
                                        {
                                            "__typename": "GameLibraryTitle",
                                            "conceptId": "216932",
                                            "entitlementId": "EP0953-CUSA05330_00-BRAWLHALLAEUROPE",
                                            "image": {
                                                "__typename": "Media",
                                                "url": "https://image.api.playstation.com/gs2-sec/appkgo/prod/CUSA05330_00/1/i_83a632b0dda5bdfda82b0342b3933a2b10c28aa4408b4179b9a011886698e293/i/icon0.png"
                                            },
                                            "isActive": true,
                                            "lastPlayedDateTime": "2022-08-12T09:59:35.800000Z",
                                            "name": "Brawlhalla",
                                            "platform": "PS4",
                                            "productId": "EP0953-CUSA05330_00-BRAWLHALLAEUROPE",
                                            "membership": "NONE",
                                            "titleId": "CUSA05330_00"
                                        },
                                        {
                                            "__typename": "GameLibraryTitle",
                                            "conceptId": "235232",
                                            "entitlementId": "EP0700-CUSA17885_00-SMGDARKPICTURESB",
                                            "image": {
                                                "__typename": "Media",
                                                "url": "https://image.api.playstation.com/gs2-sec/appkgo/prod/CUSA17885_00/6/i_3a035e7d74c50c43fd25ff391f2aa7ad2b22641634f556e912628f19b4da3fb6/i/icon0.png"
                                            },
                                            "isActive": true,
                                            "lastPlayedDateTime": "2022-07-19T20:27:43.600000Z",
                                            "name": "The Dark Pictures Anthology: Little Hope",
                                            "platform": "PS4",
                                            "productId": "EP0700-CUSA17885_00-SMGDARKPICTURESB",
                                            "membership": "NONE",
                                            "titleId": "CUSA17885_00"
                                        },
                                        {
                                            "__typename": "GameLibraryTitle",
                                            "conceptId": "10002538",
                                            "entitlementId": null,
                                            "image": {
                                                "__typename": "Media",
                                                "url": "https://image.api.playstation.com/vulcan/img/rnd/202109/2115/5jeuJiXUpb1bZc0Lp1U8N5Ka.png"
                                            },
                                            "isActive": null,
                                            "lastPlayedDateTime": "2022-06-25T07:20:22.990000Z",
                                            "name": "FIFA 22",
                                            "platform": "UNKNOWN",
                                            "productId": null,
                                            "membership": "NONE",
                                            "titleId": "CUSA27107_00"
                                        },
                                        {
                                            "__typename": "GameLibraryTitle",
                                            "conceptId": "229438",
                                            "entitlementId": "EP0006-CUSA05749_00-BATTLEFRONTII000",
                                            "image": {
                                                "__typename": "Media",
                                                "url": "https://image.api.playstation.com/gs2-sec/appkgo/prod/CUSA05749_00/4/i_d1fb05cea9c9978c82fce182d4e79120430b33de101d0652ef91edf150fedb9b/i/icon0.png"
                                            },
                                            "isActive": true,
                                            "lastPlayedDateTime": "2022-06-25T07:19:45.740000Z",
                                            "name": "STAR WARS™ Battlefront™ II",
                                            "platform": "PS4",
                                            "productId": "EP0006-CUSA05749_00-BATTLEFRONTII000",
                                            "membership": "NONE",
                                            "titleId": "CUSA05749_00"
                                        },
                                        {
                                            "__typename": "GameLibraryTitle",
                                            "conceptId": "205353",
                                            "entitlementId": "EP9000-CUSA02344_00-UNCHARTEDTRILOGY",
                                            "image": {
                                                "__typename": "Media",
                                                "url": "https://image.api.playstation.com/gs2-sec/appkgo/prod/CUSA02344_00/1/i_b9b8756a874c45d4dcceddcfaeaf51ad049af372ef6a63bd3d3261db15b0397e/i/icon0.png"
                                            },
                                            "isActive": true,
                                            "lastPlayedDateTime": "2022-05-03T08:46:48.590000Z",
                                            "name": "Uncharted™: The Nathan Drake Collection",
                                            "platform": "PS4",
                                            "productId": "EP9000-CUSA02344_00-UNCHARTEDTRILOGY",
                                            "membership": "NONE",
                                            "titleId": "CUSA02344_00"
                                        },
                                        {
                                            "__typename": "GameLibraryTitle",
                                            "conceptId": "229018",
                                            "entitlementId": "EP9000-CUSA09175_00-DAYSGONECOMPLETE",
                                            "image": {
                                                "__typename": "Media",
                                                "url": "https://image.api.playstation.com/gs2-sec/appkgo/prod/CUSA09175_00/2/i_53d18dc2da6a0ee0c56f010428a53c37b91ba301ba57dae4563e5d514dd28b20/i/icon0.png"
                                            },
                                            "isActive": true,
                                            "lastPlayedDateTime": "2022-03-12T19:45:27.180000Z",
                                            "name": "DAYS GONE",
                                            "platform": "PS4",
                                            "productId": "EP9000-CUSA09175_00-00000DAYSGONEDLX",
                                            "membership": "NONE",
                                            "titleId": "CUSA09175_00"
                                        },
                                        {
                                            "__typename": "GameLibraryTitle",
                                            "conceptId": "10000649",
                                            "entitlementId": null,
                                            "image": {
                                                "__typename": "Media",
                                                "url": "https://image.api.playstation.com/vulcan/ap/rnd/202008/1020/T45iRN1bhiWcJUzST6UFGBvO.png"
                                            },
                                            "isActive": null,
                                            "lastPlayedDateTime": "2022-03-12T08:14:34.350000Z",
                                            "name": "Marvel's Spider-Man: Miles Morales",
                                            "platform": "UNKNOWN",
                                            "productId": null,
                                            "membership": "NONE",
                                            "titleId": "CUSA17776_00"
                                        },
                                        {
                                            "__typename": "GameLibraryTitle",
                                            "conceptId": "230079",
                                            "entitlementId": "EP9000-CUSA10249_00-THELASTOFUSPART2",
                                            "image": {
                                                "__typename": "Media",
                                                "url": "https://image.api.playstation.com/gs2-sec/appkgo/prod/CUSA10249_00/1/i_7b412e7000fc0945d3da24273c7c1e1d256196d5a660948b3d104b0d2dc2dd3a/i/icon0.png"
                                            },
                                            "isActive": true,
                                            "lastPlayedDateTime": "2022-01-06T09:26:04.670000Z",
                                            "name": "The Last of Us™ Part II",
                                            "platform": "PS4",
                                            "productId": "EP9000-CUSA10249_00-THELASTOFUSPART2",
                                            "membership": "NONE",
                                            "titleId": "CUSA10249_00"
                                        },
                                        {
                                            "__typename": "GameLibraryTitle",
                                            "conceptId": "201190",
                                            "entitlementId": null,
                                            "image": {
                                                "__typename": "Media",
                                                "url": "https://image.api.playstation.com/gs2-sec/appkgo/prod/CUSA03365_00/2/i_1bf8d3317ff642710196c85c859320f0a9345e3c65a9132d588239fab877d81a/i/icon0.png"
                                            },
                                            "isActive": null,
                                            "lastPlayedDateTime": "2021-12-31T22:50:41.190000Z",
                                            "name": "DARK SOULS™ III",
                                            "platform": "UNKNOWN",
                                            "productId": null,
                                            "membership": "NONE",
                                            "titleId": "CUSA03365_00"
                                        },
                                        {
                                            "__typename": "GameLibraryTitle",
                                            "conceptId": "222066",
                                            "entitlementId": "EP0001-CUSA05625_00-GAMEACEMPIRE0000",
                                            "image": {
                                                "__typename": "Media",
                                                "url": "https://image.api.playstation.com/gs2-sec/appkgo/prod/CUSA05625_00/3/i_1918d4f78a3ed7521b7936984d525927a03a03e241bdd3d748bfd23c104d45db/i/icon0.png"
                                            },
                                            "isActive": true,
                                            "lastPlayedDateTime": "2021-10-24T15:08:26.480000Z",
                                            "name": "Assassin's Creed® Origins",
                                            "platform": "PS4",
                                            "productId": "EP0001-CUSA05625_00-GAMEACEMPIRE0000",
                                            "membership": "NONE",
                                            "titleId": "CUSA05625_00"
                                        },
                                        {
                                            "__typename": "GameLibraryTitle",
                                            "conceptId": "229133",
                                            "entitlementId": null,
                                            "image": {
                                                "__typename": "Media",
                                                "url": "https://image.api.playstation.com/gs2-sec/appkgo/prod/CUSA09264_00/4/i_a3cd3cb44398c38b29e1b0dd57589638e63f188c542fb59567c9d42d1bc89269/i/icon0.png"
                                            },
                                            "isActive": null,
                                            "lastPlayedDateTime": "2021-10-23T07:16:34.850000Z",
                                            "name": "Just Cause 4",
                                            "platform": "UNKNOWN",
                                            "productId": null,
                                            "membership": "NONE",
                                            "titleId": "CUSA09264_00"
                                        },
                                        {
                                            "__typename": "GameLibraryTitle",
                                            "conceptId": "10000762",
                                            "entitlementId": "EP9000-CUSA11993_00-MARVELSSPIDERMAN",
                                            "image": {
                                                "__typename": "Media",
                                                "url": "https://image.api.playstation.com/gs2-sec/appkgo/prod/CUSA11993_00/1/i_296e22660685ccb74b037472966f62c9a5b561c44c733bb1ab5afe7d276b3e44/i/icon0.png"
                                            },
                                            "isActive": true,
                                            "lastPlayedDateTime": "2021-10-23T05:28:09.020000Z",
                                            "name": "Marvel's Spider-Man",
                                            "platform": "PS4",
                                            "productId": "EP9000-CUSA11993_00-MARVELSSPIDERMAN",
                                            "membership": "NONE",
                                            "titleId": "CUSA11993_00"
                                        },
                                        {
                                            "__typename": "GameLibraryTitle",
                                            "conceptId": "231756",
                                            "entitlementId": "EP1018-CUSA11379_00-00MORTALKOMBAT11",
                                            "image": {
                                                "__typename": "Media",
                                                "url": "https://image.api.playstation.com/gs2-sec/appkgo/prod/CUSA11379_00/3/i_f3c0a4a3d584ae9ee2d34c8a8ac0e8869ef8745091fe9a2fe4c9a366fb0c7940/i/icon0.png"
                                            },
                                            "isActive": true,
                                            "lastPlayedDateTime": "2021-10-22T20:14:07.700000Z",
                                            "name": "Mortal Kombat 11",
                                            "platform": "PS4",
                                            "productId": "EP1018-CUSA11379_00-00MORTALKOMBAT11",
                                            "membership": "NONE",
                                            "titleId": "CUSA11379_00"
                                        },
                                        {
                                            "__typename": "GameLibraryTitle",
                                            "conceptId": "10000237",
                                            "entitlementId": "EP0001-CUSA18535_00-GAME000000000000",
                                            "image": {
                                                "__typename": "Media",
                                                "url": "https://image.api.playstation.com/gs2-sec/appkgo/prod/CUSA18535_00/1/i_ba3d13c355defb8c740d9d15b27589cd9e42340af421f5f5cc28be1088d2e45f/i/icon0.png"
                                            },
                                            "isActive": true,
                                            "lastPlayedDateTime": "2021-10-14T17:01:19.240000Z",
                                            "name": "Assassin's Creed® Valhalla",
                                            "platform": "PS4",
                                            "productId": "EP0001-CUSA18535_00-EDITIONSTANDARD0",
                                            "membership": "NONE",
                                            "titleId": "CUSA18535_00"
                                        },
                                        {
                                            "__typename": "GameLibraryTitle",
                                            "conceptId": "10000278",
                                            "entitlementId": null,
                                            "image": {
                                                "__typename": "Media",
                                                "url": "https://image.api.playstation.com/vulcan/img/rnd/202101/1315/1zfTY2JW41HdDTGJC00Go4nk.png"
                                            },
                                            "isActive": null,
                                            "lastPlayedDateTime": "2021-09-25T07:14:25.820000Z",
                                            "name": "FIFA 21",
                                            "platform": "PS4",
                                            "productId": null,
                                            "membership": "NONE",
                                            "titleId": "CUSA19013_00"
                                        },
                                        {
                                            "__typename": "GameLibraryTitle",
                                            "conceptId": "209441",
                                            "entitlementId": "EP1004-CUSA08519_00-REDEMPTION000002",
                                            "image": {
                                                "__typename": "Media",
                                                "url": "https://image.api.playstation.com/gs2-sec/appkgo/prod/CUSA08519_00/12/i_3da1cf7c41dc7652f9b639e1680d96436773658668c7dc3930c441291095713b/i/icon0.png"
                                            },
                                            "isActive": true,
                                            "lastPlayedDateTime": "2021-07-29T07:49:00.850000Z",
                                            "name": "Red Dead Redemption 2",
                                            "platform": "PS4",
                                            "productId": "EP1004-CUSA08519_00-RDR2SPCLEDTNBUND",
                                            "membership": "NONE",
                                            "titleId": "CUSA08519_00"
                                        },
                                        {
                                            "__typename": "GameLibraryTitle",
                                            "conceptId": "234460",
                                            "entitlementId": "EP1001-CUSA16386_00-NBA2K20000000000",
                                            "image": {
                                                "__typename": "Media",
                                                "url": "https://image.api.playstation.com/gs2-sec/appkgo/prod/CUSA16386_00/3/i_9d7b6c72d83669c1b2343837d4a357e3862cbc36f63ff990499fe57ee88e439f/i/icon0.png"
                                            },
                                            "isActive": true,
                                            "lastPlayedDateTime": "2021-06-30T17:15:24.600000Z",
                                            "name": "NBA 2K20",
                                            "platform": "PS4",
                                            "productId": "EP1001-CUSA16386_00-NBA2K20000000000",
                                            "membership": "NONE",
                                            "titleId": "CUSA16386_00"
                                        },
                                        {
                                            "__typename": "GameLibraryTitle",
                                            "conceptId": "200520",
                                            "entitlementId": null,
                                            "image": {
                                                "__typename": "Media",
                                                "url": "https://image.api.playstation.com/vulcan/img/rnd/202011/0713/WSZqsrnejjt85wYmUqeBQvMQ.png"
                                            },
                                            "isActive": null,
                                            "lastPlayedDateTime": "2020-11-29T12:56:21.110000Z",
                                            "name": "Bloodborne™",
                                            "platform": "UNKNOWN",
                                            "productId": null,
                                            "membership": "NONE",
                                            "titleId": "CUSA00207_00"
                                        }
                                    ]
                                },
                                "deviceStorageDetailsRetrieve": [
                                    {
                                        "__typename": "Device",
                                        "duid": "U2FsdGVkX19NW6iJNpmEOJSSl/Z1ePWuavb8AV6nupgwHofgVBbuAkFhQc/8mLh1WiDeDnejr2yJbcyku1JDym9m9aZ4w+jHT2sU+AM9/SheVvyEsnFL5bqrwehU0ipV",
                                        "deviceName": "PS5-096",
                                        "devicePlatform": "PS5",
                                        "deviceStorageDetails": {
                                            "__typename": "DeviceStorageDetails",
                                            "deviceAvailableSpace": 0,
                                            "installedGames": [
                                                {
                                                    "__typename": "DeviceInstalledGame",
                                                    "title": null,
                                                    "titleId": "PPSA21669_00",
                                                    "name": "Marvel Rivals",
                                                    "installationSize": {
                                                        "__typename": "FileSize",
                                                        "bytes": 37268160512
                                                    },
                                                    "media": {
                                                        "__typename": "Media",
                                                        "url": "https://image.api.playstation.com/vulcan/ap/rnd/202406/1410/d0fe97ef329cad44890bcb44d42f0e7a7f38e2e5dcc9b14f.png"
                                                    },
                                                    "targetPlatforms": [
                                                        "PS5"
                                                    ]
                                                },
                                                {
                                                    "__typename": "DeviceInstalledGame",
                                                    "title": null,
                                                    "titleId": "PPSA22121_00",
                                                    "name": "NBA 2K25 Standard Edition",
                                                    "installationSize": {
                                                        "__typename": "FileSize",
                                                        "bytes": 152155652096
                                                    },
                                                    "media": {
                                                        "__typename": "Media",
                                                        "url": "https://image.api.playstation.com/vulcan/ap/rnd/202406/0623/557a498ad681abced2e4fb18ccaacf8dbfe598a4e454b169.png"
                                                    },
                                                    "targetPlatforms": [
                                                        "PS4",
                                                        "PS5"
                                                    ]
                                                },
                                                {
                                                    "__typename": "DeviceInstalledGame",
                                                    "title": null,
                                                    "titleId": "PPSA06899_00",
                                                    "name": "TopSpin 2K25 Cross-Gen Digital Edition",
                                                    "installationSize": {
                                                        "__typename": "FileSize",
                                                        "bytes": 30057168896
                                                    },
                                                    "media": {
                                                        "__typename": "Media",
                                                        "url": "https://image.api.playstation.com/vulcan/ap/rnd/202403/0619/b9cfd4a50d5a87a891c05be6f3e2f107f066d76e8a88dcb6.png"
                                                    },
                                                    "targetPlatforms": [
                                                        "PS4",
                                                        "PS5"
                                                    ]
                                                },
                                                {
                                                    "__typename": "DeviceInstalledGame",
                                                    "title": null,
                                                    "titleId": "PPSA07784_00",
                                                    "name": "STAR WARS Jedi: Survivor™",
                                                    "installationSize": {
                                                        "__typename": "FileSize",
                                                        "bytes": 151432855552
                                                    },
                                                    "media": {
                                                        "__typename": "Media",
                                                        "url": "https://image.api.playstation.com/vulcan/ap/rnd/202304/1016/47becbe467e18575f71429abbaec9af707865744b825f34d.png"
                                                    },
                                                    "targetPlatforms": [
                                                        "PS5"
                                                    ]
                                                },
                                                {
                                                    "__typename": "DeviceInstalledGame",
                                                    "title": null,
                                                    "titleId": "CUSA25165_00",
                                                    "name": "Secret Neighbor",
                                                    "installationSize": {
                                                        "__typename": "FileSize",
                                                        "bytes": 11996430336
                                                    },
                                                    "media": {
                                                        "__typename": "Media",
                                                        "url": "https://image.api.playstation.com/vulcan/ap/rnd/202310/2314/27cd13e614b08218e52cf51718f938f8e16968bd4f041833.png"
                                                    },
                                                    "targetPlatforms": [
                                                        "PS4"
                                                    ]
                                                },
                                                {
                                                    "__typename": "DeviceInstalledGame",
                                                    "title": null,
                                                    "titleId": "PPSA02733_00",
                                                    "name": "",
                                                    "installationSize": {
                                                        "__typename": "FileSize",
                                                        "bytes": 54504587264
                                                    },
                                                    "media": {
                                                        "__typename": "Media",
                                                        "url": ""
                                                    },
                                                    "targetPlatforms": [
                                                    ]
                                                },
                                                {
                                                    "__typename": "DeviceInstalledGame",
                                                    "title": null,
                                                    "titleId": "PPSA22179_00",
                                                    "name": "EA SPORTS FC™ 25 Standart Sürüm PS4 ve PS5",
                                                    "installationSize": {
                                                        "__typename": "FileSize",
                                                        "bytes": 57741475840
                                                    },
                                                    "media": {
                                                        "__typename": "Media",
                                                        "url": "https://image.api.playstation.com/vulcan/ap/rnd/202407/1814/07a6fda04cc8874d465605538724103f78e3f4deeede69d3.png"
                                                    },
                                                    "targetPlatforms": [
                                                        "PS5",
                                                        "PS4"
                                                    ]
                                                },
                                                {
                                                    "__typename": "DeviceInstalledGame",
                                                    "title": null,
                                                    "titleId": "PPSA13960_00",
                                                    "name": "Assassin's Creed® Mirage",
                                                    "installationSize": {
                                                        "__typename": "FileSize",
                                                        "bytes": 37322686464
                                                    },
                                                    "media": {
                                                        "__typename": "Media",
                                                        "url": "https://image.api.playstation.com/vulcan/ap/rnd/202208/1718/phwiQjbJddEg979YucUoP3Vr.png"
                                                    },
                                                    "targetPlatforms": [
                                                        "PS4",
                                                        "PS5"
                                                    ]
                                                },
                                                {
                                                    "__typename": "DeviceInstalledGame",
                                                    "title": null,
                                                    "titleId": "PPSA05688_00",
                                                    "name": "Spotify",
                                                    "installationSize": {
                                                        "__typename": "FileSize",
                                                        "bytes": 407568384
                                                    },
                                                    "media": {
                                                        "__typename": "Media",
                                                        "url": "https://image.api.playstation.com/vulcan/img/rnd/202010/0105/nkAJcbaKJ1N0YP7JuRd3DdTc.png"
                                                    },
                                                    "targetPlatforms": [
                                                        "PS5"
                                                    ]
                                                }
                                            ]
                                        }
                                    },
                                    {
                                        "__typename": "Device",
                                        "duid": "U2FsdGVkX19TFRyuzEVtURScYdhs3ylo9yXG2kUsZYzt+5Mn2w9OgKQkXeRgV+YRSy0vRFd7JUQdYMRQWDwVtHq7LTOu4hc8k3nawSEyd7mZS2sS3rjmqSQut4Qa2VTW",
                                        "deviceName": "PS5-642",
                                        "devicePlatform": "PS5",
                                        "deviceStorageDetails": {
                                            "__typename": "DeviceStorageDetails",
                                            "deviceAvailableSpace": 0,
                                            "installedGames": [
                                                {
                                                    "__typename": "DeviceInstalledGame",
                                                    "title": null,
                                                    "titleId": "PPSA22179_00",
                                                    "name": "EA SPORTS FC™ 25 Standart Sürüm PS4 ve PS5",
                                                    "installationSize": {
                                                        "__typename": "FileSize",
                                                        "bytes": 59353792512
                                                    },
                                                    "media": {
                                                        "__typename": "Media",
                                                        "url": "https://image.api.playstation.com/vulcan/ap/rnd/202407/1814/07a6fda04cc8874d465605538724103f78e3f4deeede69d3.png"
                                                    },
                                                    "targetPlatforms": [
                                                        "PS5",
                                                        "PS4"
                                                    ]
                                                },
                                                {
                                                    "__typename": "DeviceInstalledGame",
                                                    "title": null,
                                                    "titleId": "PPSA22121_00",
                                                    "name": "NBA 2K25 Standard Edition",
                                                    "installationSize": {
                                                        "__typename": "FileSize",
                                                        "bytes": 152155652096
                                                    },
                                                    "media": {
                                                        "__typename": "Media",
                                                        "url": "https://image.api.playstation.com/vulcan/ap/rnd/202406/0623/557a498ad681abced2e4fb18ccaacf8dbfe598a4e454b169.png"
                                                    },
                                                    "targetPlatforms": [
                                                        "PS4",
                                                        "PS5"
                                                    ]
                                                },
                                                {
                                                    "__typename": "DeviceInstalledGame",
                                                    "title": null,
                                                    "titleId": "PPSA16307_00",
                                                    "name": "WWE 2K24 Cross-Gen Digital Edition",
                                                    "installationSize": {
                                                        "__typename": "FileSize",
                                                        "bytes": 93074948096
                                                    },
                                                    "media": {
                                                        "__typename": "Media",
                                                        "url": "https://image.api.playstation.com/vulcan/ap/rnd/202401/1718/7d649a71454c932d484b37690889a173351d4fe3d0eda2dc.png"
                                                    },
                                                    "targetPlatforms": [
                                                        "PS4",
                                                        "PS5"
                                                    ]
                                                },
                                                {
                                                    "__typename": "DeviceInstalledGame",
                                                    "title": null,
                                                    "titleId": "PPSA08338_00",
                                                    "name": "Marvel’s Spider-Man 2",
                                                    "installationSize": {
                                                        "__typename": "FileSize",
                                                        "bytes": 87417421824
                                                    },
                                                    "media": {
                                                        "__typename": "Media",
                                                        "url": "https://image.api.playstation.com/vulcan/ap/rnd/202306/1219/1c7b75d8ed9271516546560d219ad0b22ee0a263b4537bd8.png"
                                                    },
                                                    "targetPlatforms": [
                                                        "PS5"
                                                    ]
                                                },
                                                {
                                                    "__typename": "DeviceInstalledGame",
                                                    "title": null,
                                                    "titleId": "PPSA05688_00",
                                                    "name": "Spotify",
                                                    "installationSize": {
                                                        "__typename": "FileSize",
                                                        "bytes": 70713344
                                                    },
                                                    "media": {
                                                        "__typename": "Media",
                                                        "url": "https://image.api.playstation.com/vulcan/img/rnd/202010/0105/nkAJcbaKJ1N0YP7JuRd3DdTc.png"
                                                    },
                                                    "targetPlatforms": [
                                                        "PS5"
                                                    ]
                                                },
                                                {
                                                    "__typename": "DeviceInstalledGame",
                                                    "title": null,
                                                    "titleId": "PPSA01923_00",
                                                    "name": "Fortnite",
                                                    "installationSize": {
                                                        "__typename": "FileSize",
                                                        "bytes": 80066576384
                                                    },
                                                    "media": {
                                                        "__typename": "Media",
                                                        "url": "https://image.api.playstation.com/vulcan/ap/rnd/202412/2017/2bb1f425090006f8c5c3c3cab094809ccce8fa6f2531a8d6.png"
                                                    },
                                                    "targetPlatforms": [
                                                        "PS5"
                                                    ]
                                                },
                                                {
                                                    "__typename": "DeviceInstalledGame",
                                                    "title": null,
                                                    "titleId": "PPSA01721_00",
                                                    "name": "Grand Theft Auto Online (PlayStation®5)",
                                                    "installationSize": {
                                                        "__typename": "FileSize",
                                                        "bytes": 104443740160
                                                    },
                                                    "media": {
                                                        "__typename": "Media",
                                                        "url": "https://image.api.playstation.com/vulcan/ap/rnd/202202/2816/mYn2ETBKFct26V9mJnZi4aSS.png"
                                                    },
                                                    "targetPlatforms": [
                                                        "PS5"
                                                    ]
                                                },
                                                {
                                                    "__typename": "DeviceInstalledGame",
                                                    "title": null,
                                                    "titleId": "PPSA01666_00",
                                                    "name": "Twitch",
                                                    "installationSize": {
                                                        "__typename": "FileSize",
                                                        "bytes": 1284702208
                                                    },
                                                    "media": {
                                                        "__typename": "Media",
                                                        "url": "https://image.api.playstation.com/vulcan/img/rnd/202008/1020/DQ5zhnjMWu0vrqZGuGchhJjR.png"
                                                    },
                                                    "targetPlatforms": [
                                                        "PS5"
                                                    ]
                                                },
                                                {
                                                    "__typename": "DeviceInstalledGame",
                                                    "title": null,
                                                    "titleId": "PPSA01651_00",
                                                    "name": "YouTube",
                                                    "installationSize": {
                                                        "__typename": "FileSize",
                                                        "bytes": 465240064
                                                    },
                                                    "media": {
                                                        "__typename": "Media",
                                                        "url": "https://image.api.playstation.com/vulcan/ap/rnd/202009/3017/wYAvR9akyRjDjy75S4zCLAGi.png"
                                                    },
                                                    "targetPlatforms": [
                                                        "PS5"
                                                    ]
                                                }
                                            ]
                                        }
                                    },
                                    {
                                        "__typename": "Device",
                                        "duid": "myself",
                                        "deviceName": null,
                                        "devicePlatform": "PS4",
                                        "deviceStorageDetails": null
                                    }
                                ]
                            }
                        }
                    },
                    "page": "/library/[collection]",
                    "query": {
                        "collection": "recently-played"
                    },
                    "buildId": "99Dnj3pDuy55NdOLQaaTG",
                    "runtimeConfig": {
                        "env": "production",
                        "name": "my-playstation",
                        "version": "my-playstation@1.12.0",
                        "gitBranch": "HEAD",
                        "gitSha": "19dc2d064efa4b4e35085372d5021db2e075e5e4",
                        "isoenv": "psnnp/np",
                        "service": {
                            "gqlSsr": {
                                "host": "http://arkham-gql-router-p1np.xc.svc.cluster.local/api/graphql/v1"
                            },
                            "gqlBrowser": {
                                "host": "https://web.np.playstation.com/api/graphql/v1"
                            },
                            "session": {
                                "base": "https://web.np.playstation.com/api/session/v1",
                                "host": "http://arkham-session-p1np.xc.svc.cluster.local/"
                            },
                            "store": {
                                "host": "https://store.playstation.com"
                            },
                            "pdc": {
                                "psPlusUrl": "https://www.playstation.com/ps-plus/"
                            },
                            "checkout": {
                                "host": "https://web-commerce-anywhere.playstation.com"
                            },
                            "telemetryUrl": {
                                "host": "https://web.np.playstation.com/api/telemetry/v1"
                            }
                        },
                        "staticAsset": {
                            "host": "https://static.playstation.com",
                            "fontsMain": "/font-stack/0.1.2/css/font-all-no-italic.css"
                        },
                        "feature": {
                            "queryWhitelist": false,
                            "telemetryFilterLoadEventMetrics": false,
                            "evidonNoticeEnabled": true
                        }
                    },
                    "isFallback": false,
                    "customServer": true,
                    "gip": true,
                    "appGip": true
                }</script>
            <script nomodule="" src="/_next/static/chunks/polyfills-1187440fbced1808522f.js"></script>
            <script src="/_next/static/chunks/main-8c0e682786fab220f644.js" async=""></script>
            <script src="/_next/static/chunks/webpack-50bee04d1dc61f8adf5b.js" async=""></script>
            <script src="/_next/static/chunks/framework.fef40d0ef2a43723cbac.js" async=""></script>
            <script src="/_next/static/chunks/1f5b1a6a.9ae2ecdd7b29dd70bddf.js" async=""></script>
            <script src="/_next/static/chunks/6f0d5861.6bcf8e5af9ec9c675305.js" async=""></script>
            <script src="/_next/static/chunks/bbec27fe.21c3605beeeae78d716d.js" async=""></script>
            <script src="/_next/static/chunks/commons.da1cc6c071aa0de2a1e4.js" async=""></script>
            <script src="/_next/static/chunks/f7886890637c5c7905cda456b4abe131c9f5f67d.c4fb828efd1664ebf168.js" async=""></script>
            <script src="/_next/static/chunks/06b93a6eb7e9ddb420989a37f624e6ba66be2fff.42f068cc8b6351946c7b.js" async=""></script>
            <script src="/_next/static/chunks/dba63d6b74b9a9f38c0185631ccb9397236504b8.906360d2eb5b8e66e135.js" async=""></script>
            <script src="/_next/static/chunks/a0debed46b79103d6a0811222264dc0f663e93cf.71e213b4d3e712430b08.js" async=""></script>
            <script src="/_next/static/chunks/a03f3ad708d9defbc03735f0b26700e8d0404a2f.aedca88db97dfe52f721.js" async=""></script>
            <script src="/_next/static/chunks/84f345049167e7203f23d1702ce0b18fd69f1e44.073d7084a3d1f6c02384.js" async=""></script>
            <script src="/_next/static/chunks/pages/_app-be271fb57ddc90f7156a.js" async=""></script>
            <script src="/_next/static/chunks/7695d402190129cb59f65803823b16e4ad66b561.c089a7eee64b189613e3.js" async=""></script>
            <script src="/_next/static/chunks/feb7f4530d0de366f04bdea682fab8ed9b767844.4cc5ec6e3b5b585a8a84.js" async=""></script>
            <script src="/_next/static/chunks/c59bf9a42688430f17a0ab4a96d2ce096f55f6ac.2387f7bfc5035c6aa6a5.js" async=""></script>
            <script src="/_next/static/chunks/pages/library/%5Bcollection%5D-c6e891ac14ca0f90b9f5.js" async=""></script>
            <script src="/_next/static/99Dnj3pDuy55NdOLQaaTG/_buildManifest.js" async=""></script>
            <script src="/_next/static/99Dnj3pDuy55NdOLQaaTG/_ssgManifest.js" async=""></script>
            <script type="text/javascript">
                window.PDC = {
                    Locale: {
                        getLocale() {
                            return ['tr-tr']
                        }
                    }
                };

                window.psnWebToolbar = {};
                window.psnWebToolbar.getGuestLocale = function(isLocaleSupported, done) {
                    if (isLocaleSupported('tr-tr')) {
                        return done('tr-tr');
                    }
                    return done();
                }
                ;
                window.psnWebToolbar.authLogoutRedirectUri = 'https://www.playstation.com';

                window.sharedNav = {};
                window.sharedNav.opts = {
                    ...window.sharedNav.opts,
                    webToolbarType: 'oracle'
                };
            </script>
            <script src="/static/lib/shared-nav/3.1.8/shared-nav.js" type="text/javascript"></script>
            <script type="text/javascript">
                sharedNav.setPublicUrl('/static/lib/shared-nav/3.1.8/');
            </script>
            <script id="evidon_iab" type="text/javascript">
                (function() {
                    var gdprAppliesGlobally = false;
                    function addFrame() {
                        if (!window.frames['__tcfapiLocator']) {
                            if (document.body) {
                                var body = document.body
                                  , iframe = document.createElement('iframe');
                                iframe.style.cssText = 'display:none';
                                iframe.name = '__tcfapiLocator';
                                body.appendChild(iframe);
                            } else {
                                // In the case where this stub is located in the head,
                                // this allows us to inject the iframe more quickly than
                                // relying on DOMContentLoaded or other events.
                                setTimeout(addFrame, 5);
                            }
                        }
                    }
                    addFrame();
                    function stubTCFAPI() {
                        var args = arguments;
                        // console.log('stubTCFAPI', args);
                        __tcfapi.a = __tcfapi.a || [];
                        if (!args.length)
                            return __tcfapi.a;
                        else if (args[0] === 'ping') {
                            args[2]({
                                gdprApplies: gdprAppliesGlobally,
                                cmpLoaded: false,
                                cmpStatus: 'stub',
                                displayStatus: 'hidden',
                                apiVersion: "2.0"
                            }, args[1] !== 1);
                        } else {
                            __tcfapi.a.push([].slice.apply(args));
                        }
                    }
                    function cmpMsgHandler(event) {
                        var msgIsString = typeof event.data === 'string';
                        var isDevtool = event?.data?.source?.search(/devtools/g) !== -1;
                        var json = event.data;
                        if (!isDevtool && typeof json !== 'object') {
                            try {
                                json = JSON.parse(json);
                            } catch (err) {
                                return;
                            }
                        }
                        if (!json.__tcfapiCall)
                            return;
                        var call = json.__tcfapiCall;
                        window.__tcfapi(call.command, call.version, function(retValue, success) {
                            var returnMsg = {
                                __tcfapiReturn: {
                                    returnValue: retValue,
                                    success: success,
                                    callId: call.callId
                                }
                            };
                            if (event.source && typeof event.source.postMessage === 'function' && event.source.search(/devtools/g) === -1)
                                event.source.postMessage(msgIsString ? JSON.stringify(returnMsg) : returnMsg, '*');
                        }, call.parameter);
                    }
                    if (typeof (__tcfapi) !== 'function') {
                        window.__tcfapi = stubTCFAPI;
                        __tcfapi.msgHandler = cmpMsgHandler;
                        if (window.addEventListener)
                            window.addEventListener('message', cmpMsgHandler, false);
                        else
                            window.attachEvent('onmessage', cmpMsgHandler);
                    }
                }
                )();
            </script>
            <script id="evidon_banner" type="text/javascript">
                (function(id) {
                    function append(scriptid, url, async) {
                        var d = document
                          , sn = 'script'
                          , f = d.getElementsByTagName(sn)[0];
                        if (!f)
                            f = d.head;
                        var s = d.createElement(sn);
                        s.async = async;
                        s.id = scriptid;
                        s.src = url;
                        s.charset = 'utf-8';
                        f.parentNode.insertBefore(s, f);
                    }
                    function is2parttld(value) {
                        var tldindicators = ['co', 'com', 'info', 'web', 'info', 'gov', 'edu', 'biz', 'net', 'org'];
                        var countryindicators = ['uk', 'us', 'fr', 'es', 'de', 'at', 'au', 'ae', 'be', 'br', 'ca', 'ch', 'cn', 'co', 'cz', 'dk', 'eg', 'eu', 'fi', 'gb', 'gr', 'hk', 'hr', 'hu', 'ie', 'in', 'jp', 'mx', 'nl', 'no', 'nz', 'pl', 'ro', 'ru', 'se'];
                        return (tldindicators.indexOf(value) !== -1 || countryindicators.indexOf(value) !== -1);
                    }
                    function getRootDomain() {
                        var parts = window.location.hostname.split('.');
                        if (parts.length === 2)
                            rootDomain = parts[0];
                        else if (parts.length > 2) {
                            // see if the next to last value is a common tld
                            var part = parts[parts.length - 2];
                            if (is2parttld(part)) {
                                rootDomain = parts[parts.length - 3];
                                // go back one more
                            } else {
                                rootDomain = part;
                            }
                        }
                        return rootDomain;
                    }
                    window.evidon = {};
                    window.evidon.id = id;
                    window.evidon.test = false;
                    // set to true for non-production testing.
                    //window.evidon.userid = '';
                    var cdn = '//c.evidon.com/'
                      , rootDomain = getRootDomain()
                      , noticecdn = cdn + 'sitenotice/';
                    append('evidon-notice', noticecdn + 'evidon-sitenotice-tag.js', false);
                    append('evidon-location', cdn + 'geo/country.js', true);
                    append('evidon-themes', noticecdn + id + '/snthemes.js', true);
                    if (rootDomain)
                        append('evidon-settings', noticecdn + id + '/' + rootDomain + (window.evidon.test ? '/test' : '') + '/settings.js', true);

                    /**
             * Custom code -
             * This fires once Evidon is ready which is useful in determining
             * when to read window.evidon.notice.regulationConsentTypeId value
             */
                    const evidonSettings = document.querySelector('#evidon-settings');
                    evidonSettings?.addEventListener('load', function() {
                        const consentEvent = new CustomEvent('evidonConsentState');
                        document.dispatchEvent(consentEvent);
                    });

                    /**
             * Custom code -
             * Sets cookie consent and dispatch event for Evidon cookie banner
             */
                    const setConsent = (_consent) => {
                        // Custom event
                        const consentEvent = new CustomEvent('evidonConsentState',{
                            detail: {
                                consent: _consent,
                            },
                            bubbles: true,
                            cancelable: true,
                        });
                        document.dispatchEvent(consentEvent);
                    }
                    ;

                    window.evidon.priorConsentCallback = function(categories, vendors, cookies) {
                        // add the tags which need to wait for prior consent
                        // here.  This should be all your advertising tags and
                        // probably most of your social and tracking tags.
                        setConsent('accept');
                    }
                    window.evidon.closeCallback = function() {// this is executed if the user closed a UI element without either Accepting (providing consent)
                    // or Declining (declining to provide consent).
                    }
                    window.evidon.consentWithdrawnCallback = function() {
                        // this is exeucted if the user withdraws consent and elects to
                        // no longer allow technologies to run on the site.
                        setConsent('reject');
                    }
                    window.evidon.consentDeclinedCallback = function() {
                        // this is executed if the user explicitly declines the consent by
                        // pressing Decline button
                        window.evidon.notice.dropSuppressionCookie(1, evidon.notice._getRootDomain(evidon.notice.domain));
                        setConsent('reject');
                    }
                }
                )(6063);
            </script>
            <div>
                <script id="env:623cf560-c6e4-11ef-9220-db58b7c7b7c6" type="application/json">
                    {
                        "args": {
                        },
                        "overrides": {
                            "includeStorePicker": "false",
                            "locale": "tr-TR"
                        },
                        "cache": {
                        },
                        "translations": {
                            "msgid_country_dk": "Danimarka",
                            "msgid_language_da_dk": "",
                            "msgid_language_da": "Danca",
                            "msgid_country_at": "Avusturya",
                            "msgid_language_de_at": "",
                            "msgid_language_de": "Almanca",
                            "msgid_country_de": "Almanya",
                            "msgid_language_de_de": "Almanca (Almanya)",
                            "msgid_country_lu": "Lüksemburg",
                            "msgid_language_de_lu": "",
                            "msgid_country_bg": "Bulgaristan",
                            "msgid_language_en_bg": "",
                            "msgid_language_en": "İngilizce",
                            "msgid_country_ca": "Kanada",
                            "msgid_language_en_ca": "",
                            "msgid_country_cy": "Kıbrıs",
                            "msgid_language_en_cy": "",
                            "msgid_country_cz": "Çek Cumhuriyeti",
                            "msgid_language_en_cz": "",
                            "msgid_language_en_dk": "",
                            "msgid_country_fi": "Finlandiya",
                            "msgid_language_en_fi": "",
                            "msgid_country_gb": "Birleşik Krallık",
                            "msgid_language_en_gb": "",
                            "msgid_country_gr": "Yunanistan",
                            "msgid_language_en_gr": "",
                            "msgid_country_hr": "Hırvatistan",
                            "msgid_language_en_hr": "",
                            "msgid_country_hu": "Macaristan",
                            "msgid_language_en_hu": "",
                            "msgid_country_ie": "İrlanda",
                            "msgid_language_en_ie": "",
                            "msgid_country_is": "İzlanda",
                            "msgid_language_en_is": "",
                            "msgid_country_mt": "Malta",
                            "msgid_language_en_mt": "",
                            "msgid_country_no": "Norveç",
                            "msgid_language_en_no": "",
                            "msgid_country_pl": "Polonya",
                            "msgid_language_en_pl": "",
                            "msgid_country_ro": "Romanya",
                            "msgid_language_en_ro": "",
                            "msgid_country_se": "İsveç",
                            "msgid_language_en_se": "",
                            "msgid_country_si": "Slovenya",
                            "msgid_language_en_si": "",
                            "msgid_country_sk": "Slovakya",
                            "msgid_language_en_sk": "",
                            "msgid_country_es": "İspanya",
                            "msgid_language_es_es": "İspanyolca (İspanya)",
                            "msgid_country_us": "Amerika Birleşik Devletleri",
                            "msgid_language_en_us": "İngilizce (Amerika Birleşik Devletleri)",
                            "msgid_language_fi_fi": "",
                            "msgid_language_fi": "Fince",
                            "msgid_country_be": "Belçika",
                            "msgid_language_fr_be": "Fransızca (Belçika)",
                            "msgid_language_fr_ca": "Fransızca (Kanada)",
                            "msgid_country_fr": "Fransa",
                            "msgid_language_fr_fr": "Fransızca (Fransa)",
                            "msgid_language_fr_lu": "",
                            "msgid_language_fr": "Fransızca",
                            "msgid_country_it": "İtalya",
                            "msgid_language_it_it": "",
                            "msgid_language_it": "İtalyanca",
                            "msgid_language_nl_be": "",
                            "msgid_language_nl": "Hollandaca",
                            "msgid_country_nl": "Hollanda",
                            "msgid_language_nl_nl": "",
                            "msgid_language_no_no": "",
                            "msgid_language_no": "Norveççe",
                            "msgid_language_pl_pl": "",
                            "msgid_language_pl": "Lehçe",
                            "msgid_country_pt": "Portekiz",
                            "msgid_language_pt_pt": "Portekizce (Portekiz)",
                            "msgid_language_sv_se": "",
                            "msgid_language_sv": "İsveççe",
                            "msgid_country_tr": "Türkiye",
                            "msgid_country_countryregionname": "Ülke / Bölge: %countryorregionname%",
                            "msgid_support": "Destek",
                            "msgid_privacy_cookies": "Gizlilik ve Çerezler",
                            "msgid_website_terms_service": "Web Sitesi Kullanım Koşulları",
                            "msgid_sitemap": "Site Haritası",
                            "msgid_playstation_studios": "PlayStation Studios",
                            "msgid_legal": "Yasal",
                            "msgid_about_sie": "SIE Hakkında",
                            "msgid_psn_terms_service": "PSN Hizmet Koşulları",
                            "msgid_software_usage_terms": "Yazılım Kullanım Koşulları",
                            "msgid_cancellation_policy": "PS Store İptal İlkesi",
                            "msgid_health_warnings": "Sağlık Uyarıları",
                            "msgid_about_ratings": "Derecelendirmeler Hakkında",
                            "msgid_android_app": "Android Uygulaması",
                            "msgid_ios_app": "iOS Uygulaması",
                            "msgid_website_sony_interactive_entertainment": "© %currentyear% Sony Interactive Entertainment Europe Ltd. Tüm Hakları Saklıdır."
                        }
                   
